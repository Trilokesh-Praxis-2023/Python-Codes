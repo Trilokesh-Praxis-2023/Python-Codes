{
 "cells": [
  {
   "cell_type": "code",
   "execution_count": 1,
   "id": "b3d7eb6b",
   "metadata": {
    "scrolled": true
   },
   "outputs": [],
   "source": [
    "import example_1"
   ]
  },
  {
   "cell_type": "code",
   "execution_count": 2,
   "id": "3eca772d",
   "metadata": {},
   "outputs": [
    {
     "data": {
      "text/plain": [
       "9.5"
      ]
     },
     "execution_count": 2,
     "metadata": {},
     "output_type": "execute_result"
    }
   ],
   "source": [
    "example_1.add(4,5.5)"
   ]
  },
  {
   "cell_type": "code",
   "execution_count": 3,
   "id": "6ca4bff9",
   "metadata": {},
   "outputs": [
    {
     "data": {
      "text/plain": [
       "-2"
      ]
     },
     "execution_count": 3,
     "metadata": {},
     "output_type": "execute_result"
    }
   ],
   "source": [
    "example_1.subtract(4,6)"
   ]
  },
  {
   "cell_type": "code",
   "execution_count": 4,
   "id": "348f1a01",
   "metadata": {},
   "outputs": [
    {
     "data": {
      "text/plain": [
       "24"
      ]
     },
     "execution_count": 4,
     "metadata": {},
     "output_type": "execute_result"
    }
   ],
   "source": [
    "example_1.mul(4,6)"
   ]
  },
  {
   "cell_type": "code",
   "execution_count": null,
   "id": "8432824a",
   "metadata": {},
   "outputs": [],
   "source": [
    "example_1.div(4,6)"
   ]
  },
  {
   "cell_type": "code",
   "execution_count": null,
   "id": "79a5ba94",
   "metadata": {},
   "outputs": [],
   "source": []
  }
 ],
 "metadata": {
  "kernelspec": {
   "display_name": "Python 3 (ipykernel)",
   "language": "python",
   "name": "python3"
  },
  "language_info": {
   "codemirror_mode": {
    "name": "ipython",
    "version": 3
   },
   "file_extension": ".py",
   "mimetype": "text/x-python",
   "name": "python",
   "nbconvert_exporter": "python",
   "pygments_lexer": "ipython3",
   "version": "3.10.12"
  }
 },
 "nbformat": 4,
 "nbformat_minor": 5
}
