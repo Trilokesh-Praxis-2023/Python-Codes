{
 "cells": [
  {
   "cell_type": "code",
   "execution_count": 2,
   "metadata": {},
   "outputs": [
    {
     "name": "stdout",
     "output_type": "stream",
     "text": [
      "5\n",
      "13\n",
      "25\n",
      "41\n",
      "61\n",
      "85\n",
      "113\n",
      "145\n",
      "181\n",
      "221\n",
      "265\n",
      "313\n",
      "365\n",
      "421\n",
      "481\n"
     ]
    }
   ],
   "source": [
    "# Break and Continue statements\n",
    "# The break and continue statements in Python are similar to the statements in C. \n",
    "# The break statement breaks out of the for/while loop, whereas the continue\n",
    "# statement continues with the next iteration\n",
    "\n",
    "# Break statement example\n",
    "y = 1\n",
    "for x in range (4, 256, 4):\n",
    "     y = y + x\n",
    "     if (y > 512):\n",
    "       break\n",
    "     print(y)"
   ]
  },
  {
   "cell_type": "code",
   "execution_count": 3,
   "metadata": {},
   "outputs": [
    {
     "name": "stdout",
     "output_type": "stream",
     "text": [
      "5\n",
      "13\n",
      "25\n",
      "41\n",
      "61\n",
      "85\n",
      "113\n",
      "145\n",
      "181\n",
      "265\n",
      "313\n",
      "365\n",
      "421\n",
      "481\n",
      "545\n",
      "613\n",
      "685\n",
      "761\n",
      "841\n",
      "925\n",
      "1013\n",
      "1105\n",
      "1201\n",
      "1301\n",
      "1405\n",
      "1513\n",
      "1625\n",
      "1741\n",
      "1861\n",
      "1985\n",
      "2113\n",
      "2245\n",
      "2381\n",
      "2521\n",
      "2665\n",
      "2813\n",
      "2965\n",
      "3121\n",
      "3281\n",
      "3445\n",
      "3613\n",
      "3785\n",
      "3961\n",
      "4141\n",
      "4325\n",
      "4513\n",
      "4705\n",
      "4901\n",
      "5101\n",
      "5305\n",
      "5513\n",
      "5725\n",
      "5941\n",
      "6161\n",
      "6385\n",
      "6613\n",
      "6845\n",
      "7081\n",
      "7321\n",
      "7565\n",
      "7813\n",
      "8065\n"
     ]
    }
   ],
   "source": [
    "y = 1\n",
    "for x in range (4, 256, 4):\n",
    "     y = y + x\n",
    "     if (y == 221):\n",
    "       continue\n",
    "     print(y)"
   ]
  },
  {
   "cell_type": "code",
   "execution_count": 2,
   "metadata": {},
   "outputs": [
    {
     "name": "stdout",
     "output_type": "stream",
     "text": [
      "5\n",
      "13\n",
      "25\n",
      "41\n",
      "61\n",
      "85\n",
      "113\n",
      "145\n",
      "181\n",
      "221\n",
      "265\n",
      "313\n",
      "365\n",
      "421\n",
      "545\n",
      "613\n",
      "685\n",
      "761\n",
      "841\n",
      "925\n",
      "1013\n",
      "1105\n",
      "1201\n",
      "1301\n",
      "1405\n",
      "1513\n",
      "1625\n",
      "1741\n",
      "1861\n",
      "1985\n",
      "2113\n",
      "2245\n",
      "2381\n",
      "2521\n",
      "2665\n",
      "2813\n",
      "2965\n",
      "3121\n",
      "3281\n",
      "3445\n",
      "3613\n",
      "3785\n",
      "3961\n",
      "4141\n",
      "4325\n",
      "4513\n",
      "4705\n",
      "4901\n",
      "5101\n",
      "5305\n",
      "5513\n",
      "5725\n",
      "5941\n",
      "6161\n",
      "6385\n",
      "6613\n",
      "6845\n",
      "7081\n",
      "7321\n",
      "7565\n",
      "7813\n",
      "8065\n"
     ]
    }
   ],
   "source": [
    "y = 1\n",
    "for x in range (4, 256, 4):\n",
    "     y = y + x\n",
    "     if (y == 481):\n",
    "       continue\n",
    "     print(y)"
   ]
  },
  {
   "cell_type": "code",
   "execution_count": 1,
   "metadata": {},
   "outputs": [
    {
     "name": "stdout",
     "output_type": "stream",
     "text": [
      "apple\n",
      "orange\n",
      "mango\n"
     ]
    }
   ],
   "source": [
    "# Continue statement example\n",
    "fruits = ['apple', 'orange', 'banana', 'mango']\n",
    "for item in fruits:\n",
    "    if (item == \"banana\"):\n",
    "        continue\n",
    "    else:\n",
    "        print(item)"
   ]
  },
  {
   "cell_type": "code",
   "execution_count": 5,
   "metadata": {},
   "outputs": [
    {
     "name": "stdout",
     "output_type": "stream",
     "text": [
      "apple\n",
      "orange\n"
     ]
    }
   ],
   "source": [
    "# Continue statement example\n",
    "fruits = ['apple', 'orange', 'banana', 'mango']\n",
    "for item in fruits:\n",
    "    if (item == \"banana\"):\n",
    "        break\n",
    "    else:\n",
    "        print(item)"
   ]
  },
  {
   "cell_type": "code",
   "execution_count": null,
   "metadata": {},
   "outputs": [],
   "source": []
  }
 ],
 "metadata": {
  "kernelspec": {
   "display_name": "Python 3 (ipykernel)",
   "language": "python",
   "name": "python3"
  },
  "language_info": {
   "codemirror_mode": {
    "name": "ipython",
    "version": 3
   },
   "file_extension": ".py",
   "mimetype": "text/x-python",
   "name": "python",
   "nbconvert_exporter": "python",
   "pygments_lexer": "ipython3",
   "version": "3.9.7"
  }
 },
 "nbformat": 4,
 "nbformat_minor": 2
}
