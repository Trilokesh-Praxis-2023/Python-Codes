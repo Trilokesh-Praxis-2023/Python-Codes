{
 "cells": [
  {
   "cell_type": "code",
   "execution_count": 1,
   "metadata": {},
   "outputs": [
    {
     "name": "stdout",
     "output_type": "stream",
     "text": [
      "9765625\n",
      "More\n",
      "End of program\n"
     ]
    }
   ],
   "source": [
    "# Control Flow\n",
    "# if statement examples\n",
    "a = 25**5\n",
    "print(a)\n",
    "if a < 10000:\n",
    "    print(\"Less\")  \n",
    "    print(\"The number is smaller than 10000\")\n",
    "else:\n",
    "    print(\"More\")\n",
    "print('End of program')"
   ]
  },
  {
   "cell_type": "code",
   "execution_count": null,
   "metadata": {},
   "outputs": [],
   "source": []
  },
  {
   "cell_type": "code",
   "execution_count": 2,
   "metadata": {},
   "outputs": [
    {
     "name": "stdout",
     "output_type": "stream",
     "text": [
      "More than 100k\n"
     ]
    }
   ],
   "source": [
    "if (a>10000):\n",
    "    if (a<100000):\n",
    "        print(\"Between 10k and 100k\")\n",
    "    else:\n",
    "        print(\"More than 100k\")\n",
    "elif (a == 10000):\n",
    "    print(\"Equal to 10k\")\n",
    "else:\n",
    "    print(\"Less than 10k\")"
   ]
  },
  {
   "cell_type": "code",
   "execution_count": 4,
   "metadata": {},
   "outputs": [],
   "source": [
    "a = 15000"
   ]
  },
  {
   "cell_type": "code",
   "execution_count": 3,
   "metadata": {},
   "outputs": [
    {
     "name": "stdout",
     "output_type": "stream",
     "text": [
      "Gretaer than 100k\n"
     ]
    }
   ],
   "source": [
    "if a > 10000 and a < 100000:\n",
    "    print(\"Between 10k and 100k\")\n",
    "else:\n",
    "    print(\"Gretaer than 100k\")"
   ]
  },
  {
   "cell_type": "code",
   "execution_count": 6,
   "metadata": {},
   "outputs": [],
   "source": [
    "a = 5"
   ]
  },
  {
   "cell_type": "code",
   "execution_count": 7,
   "metadata": {},
   "outputs": [],
   "source": [
    "if (10000 < a < 100000):\n",
    "    print(\"Between 10k and 100k\")"
   ]
  },
  {
   "cell_type": "code",
   "execution_count": null,
   "metadata": {},
   "outputs": [],
   "source": [
    "(a > 10000) AND (a < 100000))      10000 < a < 100000  ||"
   ]
  },
  {
   "cell_type": "code",
   "execution_count": 8,
   "metadata": {},
   "outputs": [],
   "source": [
    "a = 25\n",
    "if a < 5 | a > 30:\n",
    "    print(\"a is either less than 5 or greater than 20\")"
   ]
  },
  {
   "cell_type": "code",
   "execution_count": 11,
   "metadata": {},
   "outputs": [
    {
     "name": "stdout",
     "output_type": "stream",
     "text": [
      "Hello World\n"
     ]
    }
   ],
   "source": [
    "s = \"Hello World\"\n",
    "if (\"Worse\" in s):\n",
    "    s=s+\"!\"\n",
    "print(s)\n",
    "    "
   ]
  },
  {
   "cell_type": "code",
   "execution_count": 5,
   "metadata": {},
   "outputs": [],
   "source": [
    "if (a > 10000 and a < 100000):\n",
    "    print(\"Between 10k and 100k\")\n",
    "# else:\n",
    "#    print(\"More than 100k\")"
   ]
  },
  {
   "cell_type": "code",
   "execution_count": null,
   "metadata": {},
   "outputs": [],
   "source": []
  },
  {
   "cell_type": "code",
   "execution_count": null,
   "metadata": {},
   "outputs": [],
   "source": []
  }
 ],
 "metadata": {
  "kernelspec": {
   "display_name": "Python 3 (ipykernel)",
   "language": "python",
   "name": "python3"
  },
  "language_info": {
   "codemirror_mode": {
    "name": "ipython",
    "version": 3
   },
   "file_extension": ".py",
   "mimetype": "text/x-python",
   "name": "python",
   "nbconvert_exporter": "python",
   "pygments_lexer": "ipython3",
   "version": "3.9.7"
  }
 },
 "nbformat": 4,
 "nbformat_minor": 2
}
