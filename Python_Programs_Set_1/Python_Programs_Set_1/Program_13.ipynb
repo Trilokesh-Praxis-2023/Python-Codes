{
 "cells": [
  {
   "cell_type": "code",
   "execution_count": 1,
   "metadata": {},
   "outputs": [
    {
     "name": "stdout",
     "output_type": "stream",
     "text": [
      "2.5\n",
      "3.5\n",
      "4.2\n",
      "4.1\n",
      "3.8\n"
     ]
    }
   ],
   "source": [
    "# Functions in Python\n",
    "# A function is a block of code that takes information in the form of parameters\n",
    "# does some computation, and returns a new piece of information based on\n",
    "# the parameter information. \n",
    "# A function in Python is a block of code that begins with the keyword\n",
    "# \"def\" followed by the function name and parentheses. The function\n",
    "# parameters are enclosed within the parenthese. \n",
    "# The code block within a function begins after a colon that comes after\n",
    "# the parentheses enclosing the parameters. \\\n",
    "# The first statement of the function body can optionally be a documentation\n",
    "# string.\n",
    "# The following program shows example of a function that computes the \n",
    "# average grade given a dictionary containing student records.\n",
    "\n",
    "students = {'1':{'name':'Bob','grade':2.5},'2':{'name':'Mary','grade':3.5},\n",
    "'3':{'name':'David','grade':4.2},\n",
    "'4':{'name':'John','grade':4.1},\n",
    "'5':{'name':'Alex','grade':3.8}}\n",
    "\n",
    "for x in students:\n",
    "        print(students[x]['grade'])\n"
   ]
  },
  {
   "cell_type": "code",
   "execution_count": 2,
   "metadata": {},
   "outputs": [],
   "source": [
    "students1 = {'1':{'name':'Bob','grade':2.5},'2':{'name':'Mary','grade':3.5},\n",
    "'3':{'name':'David','grade':4.2}}"
   ]
  },
  {
   "cell_type": "code",
   "execution_count": 3,
   "metadata": {},
   "outputs": [],
   "source": [
    "def averageGrade(students):\n",
    "    \"This function computes the average grade\"\n",
    "    sum=0.0 # initialization\n",
    "    for key in students:\n",
    "        sum=sum+students[key]['grade']\n",
    "    average=sum/len(students)\n",
    "    return average"
   ]
  },
  {
   "cell_type": "code",
   "execution_count": 4,
   "metadata": {},
   "outputs": [
    {
     "name": "stdout",
     "output_type": "stream",
     "text": [
      "The average grade is: 3.40\n"
     ]
    }
   ],
   "source": [
    "avg1=averageGrade(students1)\n",
    "print (\"The average grade is: %0.2f\" % (avg1))"
   ]
  },
  {
   "cell_type": "code",
   "execution_count": 8,
   "metadata": {},
   "outputs": [
    {
     "ename": "TypeError",
     "evalue": "averageGrade() missing 1 required positional argument: 'students'",
     "output_type": "error",
     "traceback": [
      "\u001b[1;31m---------------------------------------------------------------------------\u001b[0m",
      "\u001b[1;31mTypeError\u001b[0m                                 Traceback (most recent call last)",
      "\u001b[1;32m~\\AppData\\Local\\Temp\\ipykernel_13632\\3697251481.py\u001b[0m in \u001b[0;36m<module>\u001b[1;34m\u001b[0m\n\u001b[1;32m----> 1\u001b[1;33m \u001b[0mavg\u001b[0m\u001b[1;33m=\u001b[0m\u001b[0maverageGrade\u001b[0m\u001b[1;33m(\u001b[0m\u001b[1;33m)\u001b[0m\u001b[1;33m\u001b[0m\u001b[1;33m\u001b[0m\u001b[0m\n\u001b[0m\u001b[0;32m      2\u001b[0m \u001b[0mprint\u001b[0m \u001b[1;33m(\u001b[0m\u001b[1;34m\"The average grade is: %0.2f\"\u001b[0m \u001b[1;33m%\u001b[0m \u001b[1;33m(\u001b[0m\u001b[0mavg\u001b[0m\u001b[1;33m)\u001b[0m\u001b[1;33m)\u001b[0m\u001b[1;33m\u001b[0m\u001b[1;33m\u001b[0m\u001b[0m\n",
      "\u001b[1;31mTypeError\u001b[0m: averageGrade() missing 1 required positional argument: 'students'"
     ]
    }
   ],
   "source": [
    "avg=averageGrade()\n",
    "print (\"The average grade is: %0.2f\" % (avg))"
   ]
  },
  {
   "cell_type": "code",
   "execution_count": 9,
   "metadata": {},
   "outputs": [
    {
     "name": "stdout",
     "output_type": "stream",
     "text": [
      "The average grade is: 3.62\n"
     ]
    }
   ],
   "source": [
    "avg=averageGrade(students = {'1':{'name':'Bob','grade':2.5},'2':{'name':'Mary','grade':3.5},\n",
    "'3':{'name':'David','grade':4.2},\n",
    "'4':{'name':'John','grade':4.1},\n",
    "'5':{'name':'Alex','grade':3.8}})\n",
    "print (\"The average grade is: %0.2f\" % (avg))"
   ]
  },
  {
   "cell_type": "code",
   "execution_count": 10,
   "metadata": {},
   "outputs": [
    {
     "ename": "TypeError",
     "evalue": "averageGrade() missing 1 required positional argument: 'students'",
     "output_type": "error",
     "traceback": [
      "\u001b[1;31m---------------------------------------------------------------------------\u001b[0m",
      "\u001b[1;31mTypeError\u001b[0m                                 Traceback (most recent call last)",
      "\u001b[1;32m~\\AppData\\Local\\Temp\\ipykernel_13632\\1415472851.py\u001b[0m in \u001b[0;36m<module>\u001b[1;34m\u001b[0m\n\u001b[1;32m----> 1\u001b[1;33m \u001b[0maverageGrade\u001b[0m\u001b[1;33m(\u001b[0m\u001b[1;33m)\u001b[0m\u001b[1;33m\u001b[0m\u001b[1;33m\u001b[0m\u001b[0m\n\u001b[0m",
      "\u001b[1;31mTypeError\u001b[0m: averageGrade() missing 1 required positional argument: 'students'"
     ]
    }
   ],
   "source": [
    "averageGrade()"
   ]
  },
  {
   "cell_type": "code",
   "execution_count": null,
   "metadata": {},
   "outputs": [],
   "source": []
  }
 ],
 "metadata": {
  "kernelspec": {
   "display_name": "Python 3 (ipykernel)",
   "language": "python",
   "name": "python3"
  },
  "language_info": {
   "codemirror_mode": {
    "name": "ipython",
    "version": 3
   },
   "file_extension": ".py",
   "mimetype": "text/x-python",
   "name": "python",
   "nbconvert_exporter": "python",
   "pygments_lexer": "ipython3",
   "version": "3.9.7"
  }
 },
 "nbformat": 4,
 "nbformat_minor": 2
}
