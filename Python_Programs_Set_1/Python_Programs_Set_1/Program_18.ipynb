{
 "cells": [
  {
   "cell_type": "code",
   "execution_count": 1,
   "metadata": {},
   "outputs": [
    {
     "name": "stdout",
     "output_type": "stream",
     "text": [
      "Student Name: Nav\n",
      "Student Name: Amy\n",
      "Age: 24\n",
      "Student Name: Bob\n",
      "Age: 20\n",
      "Major: CS\n"
     ]
    }
   ],
   "source": [
    "# Examples of variable length arguments\n",
    "# Python functions can have variable arguments. These variable length arguments\n",
    "# are passed as a tuple to the function with an argument prefixed with an\n",
    "# asterix(*) as illustrated in this program.\n",
    "\n",
    "def student(name, *varargs):\n",
    "    print (\"Student Name: \" + name)\n",
    "    for item in varargs:\n",
    "        print (item)\n",
    "student('Nav')\n",
    "student('Amy','Age: 24')\n",
    "student('Bob','Age: 20', 'Major: CS')"
   ]
  },
  {
   "cell_type": "code",
   "execution_count": null,
   "metadata": {
    "collapsed": true
   },
   "outputs": [],
   "source": []
  }
 ],
 "metadata": {
  "kernelspec": {
   "display_name": "Python 3 (ipykernel)",
   "language": "python",
   "name": "python3"
  },
  "language_info": {
   "codemirror_mode": {
    "name": "ipython",
    "version": 3
   },
   "file_extension": ".py",
   "mimetype": "text/x-python",
   "name": "python",
   "nbconvert_exporter": "python",
   "pygments_lexer": "ipython3",
   "version": "3.9.7"
  }
 },
 "nbformat": 4,
 "nbformat_minor": 2
}
