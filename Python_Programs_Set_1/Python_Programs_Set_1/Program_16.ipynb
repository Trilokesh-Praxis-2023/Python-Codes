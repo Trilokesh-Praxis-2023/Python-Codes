{
 "cells": [
  {
   "cell_type": "code",
   "execution_count": 2,
   "metadata": {},
   "outputs": [],
   "source": [
    "def printStudentRecords(name, age=20, major='CS'):\n",
    "    print(\"Name: \" + name)\n",
    "    print(\"Age: \" + str(age))\n",
    "    print(\"Major: \" + major)\n",
    "    \n",
    "\n"
   ]
  },
  {
   "cell_type": "code",
   "execution_count": 3,
   "metadata": {},
   "outputs": [
    {
     "ename": "TypeError",
     "evalue": "printStudentRecords() missing 1 required positional argument: 'name'",
     "output_type": "error",
     "traceback": [
      "\u001b[1;31m---------------------------------------------------------------------------\u001b[0m",
      "\u001b[1;31mTypeError\u001b[0m                                 Traceback (most recent call last)",
      "\u001b[1;32m~\\AppData\\Local\\Temp\\ipykernel_2704\\2444403636.py\u001b[0m in \u001b[0;36m<module>\u001b[1;34m\u001b[0m\n\u001b[0;32m      1\u001b[0m \u001b[1;31m#This will flash an error as name is a required argument\u001b[0m\u001b[1;33m\u001b[0m\u001b[1;33m\u001b[0m\u001b[0m\n\u001b[1;32m----> 2\u001b[1;33m \u001b[0mprintStudentRecords\u001b[0m\u001b[1;33m(\u001b[0m\u001b[1;33m)\u001b[0m\u001b[1;33m\u001b[0m\u001b[1;33m\u001b[0m\u001b[0m\n\u001b[0m",
      "\u001b[1;31mTypeError\u001b[0m: printStudentRecords() missing 1 required positional argument: 'name'"
     ]
    }
   ],
   "source": [
    "#This will flash an error as name is a required argument\n",
    "printStudentRecords()"
   ]
  },
  {
   "cell_type": "code",
   "execution_count": 3,
   "metadata": {},
   "outputs": [
    {
     "name": "stdout",
     "output_type": "stream",
     "text": [
      "Name: Alex\n",
      "Age: 20\n",
      "Major: CS\n"
     ]
    }
   ],
   "source": [
    "def printStudentRecords(name, age=20, major='CS'):\n",
    "    print (\"Name: \" + name)\n",
    "    print (\"Age: \" + str(age))\n",
    "    print (\"Major: \" + major)\n",
    "printStudentRecords(name='Alex')"
   ]
  },
  {
   "cell_type": "code",
   "execution_count": 4,
   "metadata": {},
   "outputs": [
    {
     "name": "stdout",
     "output_type": "stream",
     "text": [
      "Name: Bob\n",
      "Age: 22\n",
      "Major: ECE\n"
     ]
    }
   ],
   "source": [
    "printStudentRecords(name='Bob',age=22,major='ECE')"
   ]
  },
  {
   "cell_type": "code",
   "execution_count": 10,
   "metadata": {},
   "outputs": [
    {
     "name": "stdout",
     "output_type": "stream",
     "text": [
      "Name: Alan\n",
      "Age: 20\n",
      "Major: ECE\n"
     ]
    }
   ],
   "source": [
    "printStudentRecords(name='Alan',major='ECE')"
   ]
  },
  {
   "cell_type": "code",
   "execution_count": 5,
   "metadata": {},
   "outputs": [
    {
     "name": "stdout",
     "output_type": "stream",
     "text": [
      "Name: Bob\n",
      "age: 20\n",
      "major: CS\n"
     ]
    }
   ],
   "source": [
    "#Name is a formal argument\n",
    "#**kwargs is a keyword argument that receives all arguments except the formal argument as a dictionary\n",
    "def student(name, **kwargs):\n",
    "    print (\"Name: \" + name)\n",
    "    for key in kwargs:\n",
    "        print (key + ': ' + kwargs[key])\n",
    "student(name='Bob',age='20',major='CS')"
   ]
  },
  {
   "cell_type": "code",
   "execution_count": 17,
   "metadata": {},
   "outputs": [
    {
     "name": "stdout",
     "output_type": "stream",
     "text": [
      "Name: Mary\n",
      "age: 22\n",
      "major: IT\n",
      "minor: Phy\n",
      "addr: Kol\n"
     ]
    }
   ],
   "source": [
    "student(name='Mary', age='22', major='IT', minor='Phy', addr='Kol')"
   ]
  },
  {
   "cell_type": "code",
   "execution_count": 19,
   "metadata": {},
   "outputs": [
    {
     "name": "stdout",
     "output_type": "stream",
     "text": [
      "name: Bob\n",
      "age: 20\n",
      "major: CS\n"
     ]
    }
   ],
   "source": [
    "def student(**kwargs):\n",
    "    for key in kwargs:\n",
    "        print (key + ': ' + kwargs[key])\n",
    "student(name='Bob',age='20',major='CS')"
   ]
  },
  {
   "cell_type": "code",
   "execution_count": null,
   "metadata": {},
   "outputs": [],
   "source": []
  }
 ],
 "metadata": {
  "kernelspec": {
   "display_name": "Python 3 (ipykernel)",
   "language": "python",
   "name": "python3"
  },
  "language_info": {
   "codemirror_mode": {
    "name": "ipython",
    "version": 3
   },
   "file_extension": ".py",
   "mimetype": "text/x-python",
   "name": "python",
   "nbconvert_exporter": "python",
   "pygments_lexer": "ipython3",
   "version": "3.9.7"
  }
 },
 "nbformat": 4,
 "nbformat_minor": 2
}
