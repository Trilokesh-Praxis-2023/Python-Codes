{
 "cells": [
  {
   "cell_type": "code",
   "execution_count": 1,
   "metadata": {},
   "outputs": [],
   "source": [
    "# Example of function with default arguments\n",
    "# Functionc can have default values of the parameters. If a function\n",
    "# with default values is called with fewer parameters or without parameter, \n",
    "# the default values of the parameters are used as shown in this example. \n",
    "# fruits = ['apple', 'orange']\n",
    "def displayFruits(fruits =['apple','orange']):\n",
    "    print (\"There are %d fruits in the list\" % (len(fruits)))\n",
    "    for item in fruits:\n",
    "        print (item)\n",
    "    return"
   ]
  },
  {
   "cell_type": "code",
   "execution_count": 2,
   "metadata": {},
   "outputs": [
    {
     "name": "stdout",
     "output_type": "stream",
     "text": [
      "There are 2 fruits in the list\n",
      "apple\n",
      "orange\n"
     ]
    }
   ],
   "source": [
    "# Using default arguments\n",
    "displayFruits()"
   ]
  },
  {
   "cell_type": "code",
   "execution_count": 3,
   "metadata": {},
   "outputs": [
    {
     "name": "stdout",
     "output_type": "stream",
     "text": [
      "There are 3 fruits in the list\n",
      "banana\n",
      "pear\n",
      "mango\n"
     ]
    }
   ],
   "source": [
    "fruits = ['banana','pear', 'mango']\n",
    "displayFruits(fruits)"
   ]
  },
  {
   "cell_type": "code",
   "execution_count": 4,
   "metadata": {},
   "outputs": [
    {
     "name": "stdout",
     "output_type": "stream",
     "text": [
      "There are 2 fruits in the list\n",
      "banana\n",
      "pear\n"
     ]
    }
   ],
   "source": [
    "fruits = ('banana','pear')\n",
    "displayFruits(fruits)"
   ]
  },
  {
   "cell_type": "code",
   "execution_count": null,
   "metadata": {},
   "outputs": [],
   "source": []
  }
 ],
 "metadata": {
  "kernelspec": {
   "display_name": "Python 3 (ipykernel)",
   "language": "python",
   "name": "python3"
  },
  "language_info": {
   "codemirror_mode": {
    "name": "ipython",
    "version": 3
   },
   "file_extension": ".py",
   "mimetype": "text/x-python",
   "name": "python",
   "nbconvert_exporter": "python",
   "pygments_lexer": "ipython3",
   "version": "3.9.7"
  }
 },
 "nbformat": 4,
 "nbformat_minor": 2
}
