{
 "cells": [
  {
   "cell_type": "code",
   "execution_count": 1,
   "id": "044bd75e",
   "metadata": {},
   "outputs": [],
   "source": [
    "def swap(x, y):\n",
    "    temp = x\n",
    "    x = y\n",
    "    y = temp\n",
    "    print(\"After swapping\")\n",
    "    print(\"Value of first number :\", x)\n",
    "    print(\"Value of second number :\", y)    \n",
    "    \n",
    "    return"
   ]
  },
  {
   "cell_type": "code",
   "execution_count": 2,
   "id": "1c0a5bd6",
   "metadata": {},
   "outputs": [],
   "source": [
    "def main():\n",
    "    num1 = int(input(\"Enter first number :\"))\n",
    "    num2 = int(input(\"Enter second number :\"))\n",
    "    print(\"Before swapping\")\n",
    "    print(\"Value of first number :\",num1)\n",
    "    print(\"Value of second number :\",num2)\n",
    "    swap(num1,num2)\n",
    "    \n",
    "    return"
   ]
  },
  {
   "cell_type": "code",
   "execution_count": 3,
   "id": "02d037f4",
   "metadata": {},
   "outputs": [
    {
     "name": "stdout",
     "output_type": "stream",
     "text": [
      "Enter first number :21\n",
      "Enter second number :37\n",
      "Before swapping\n",
      "Value of first number : 21\n",
      "Value of second number : 37\n",
      "After swapping\n",
      "Value of first number : 37\n",
      "Value of second number : 21\n"
     ]
    }
   ],
   "source": [
    "if __name__ == '__main__':\n",
    "    main()"
   ]
  },
  {
   "cell_type": "code",
   "execution_count": null,
   "id": "6decda72",
   "metadata": {},
   "outputs": [],
   "source": []
  }
 ],
 "metadata": {
  "kernelspec": {
   "display_name": "Python 3 (ipykernel)",
   "language": "python",
   "name": "python3"
  },
  "language_info": {
   "codemirror_mode": {
    "name": "ipython",
    "version": 3
   },
   "file_extension": ".py",
   "mimetype": "text/x-python",
   "name": "python",
   "nbconvert_exporter": "python",
   "pygments_lexer": "ipython3",
   "version": "3.9.7"
  }
 },
 "nbformat": 4,
 "nbformat_minor": 5
}
