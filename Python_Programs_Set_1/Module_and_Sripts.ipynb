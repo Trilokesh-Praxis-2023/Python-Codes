{
 "cells": [
  {
   "cell_type": "markdown",
   "id": "d36df955",
   "metadata": {},
   "source": [
    "To better understand why and how this matters, we need to take a step back to understand how Python initializes scripts and how this interacts with its module import mechanism.\n",
    "\n",
    "Whenever the Python interpreter reads a source file, it does two things:\n",
    "\n",
    " -- it sets a few special variables like __name__, and then\n",
    "\n",
    " -- it executes all of the code found in the file.\n",
    "\n",
    "Let's see how this works and how it relates to your question about the __name__ checks we always see in Python scripts."
   ]
  },
  {
   "cell_type": "markdown",
   "id": "69331f4b",
   "metadata": {},
   "source": [
    "### Suppose this is abc.py.\n",
    "\n",
    "print(\"before import\")\n",
    "import math\n",
    "\n",
    "print(\"before function_a\")\n",
    "def function_a():\n",
    "    print(\"Function A\")\n",
    "\n",
    "print(\"before function_b\")\n",
    "def function_b():\n",
    "    print(\"Function B {}\".format(math.sqrt(100)))\n",
    "\n",
    "print(\"before __name__ guard\")\n",
    "if __name__ == '__main__':\n",
    "    function_a()\n",
    "    function_b()\n",
    "print(\"after __name__ guard\")"
   ]
  },
  {
   "cell_type": "markdown",
   "id": "51ee0907",
   "metadata": {},
   "source": [
    "### Special Variables\n",
    "\n",
    "When the Python interpreter reads a source file, it first defines a few special variables. In this case, we care about the __name__ variable.\n",
    "\n",
    "### When Your Module Is the Main Program\n",
    "\n",
    "If you are running your module (the source file) as the main program, e.g.\n",
    "\n",
    "python abc.py\n",
    "\n",
    "the interpreter will assign the hard-coded string \"__main__\" to the __name__ variable, i.e.\n",
    "\n",
    "It's as if the interpreter inserts this at the top\n",
    "of your module when run as the main program.\n",
    "__name__ = \"__main__\" \n",
    "\n",
    "### When Your Module Is Imported By Another\n",
    "\n",
    "On the other hand, suppose some other module is the main program and it imports your module. This means there's a statement like this in the main program, or in some other module the main program imports:\n",
    "\n",
    "Suppose this is in some other main program.\n",
    "\n",
    "import abc\n",
    "The interpreter will search for your foo.py file (along with searching for a few other variants), and prior to executing that module, it will assign the name \"foo\" from the import statement to the __name__ variable, i.e.\n",
    "\n",
    "It's as if the interpreter inserts this at the top\n",
    "of your module when it's imported from another module.\n",
    "__name__ = \"abc\""
   ]
  },
  {
   "cell_type": "markdown",
   "id": "4251d255",
   "metadata": {},
   "source": [
    "### Executing the Module's Code\n",
    "\n",
    "After the special variables are set up, the interpreter executes all the code in the module, one statement at a time. You may want to open another window on the side with the code sample so you can follow along with this explanation.\n",
    "\n",
    "Always\n",
    "\n",
    "1. It prints the string \"before import\" (without quotes).\n",
    "\n",
    "2. It loads the math module and assigns it to a variable called math. This is equivalent to replacing import math with the following (note that __import__ is a low-level function in Python that takes a string and triggers the actual import):\n",
    "\n",
    "Find and load a module given its string name, \"math\",\n",
    "then assign it to a local variable called math.\n",
    "math = __import__(\"math\")\n",
    "\n",
    "3. It prints the string \"before function_a\".\n",
    "\n",
    "4. It executes the def block, creating a function object, then assigning that function object to a variable called function_a.\n",
    "\n",
    "5. It prints the string \"before function_b\".\n",
    "\n",
    "6. It executes the second def block, creating another function object, then assigning it to a variable called function_b.\n",
    "\n",
    "7. It prints the string \"before __name__ guard\".\n",
    "\n",
    "### Only When Your Module Is the Main Program\n",
    "\n",
    "8. If your module is the main program, then it will see that __name__ was indeed set to \"__main__\" and it calls the two functions, printing the strings \"Function A\" and \"Function B 10.0\".\n",
    "\n",
    "### Only When Your Module Is Imported by Another\n",
    "\n",
    "8. (instead) If your module is not the main program but was imported by another one, then __name__ will be \"foo\", not \"__main__\", and it'll skip the body of the if statement.\n",
    "\n",
    "### Always\n",
    "\n",
    "9. It will print the string \"after __name__ guard\" in both situations."
   ]
  },
  {
   "cell_type": "raw",
   "id": "176bdcd7",
   "metadata": {},
   "source": [
    "### Summary\n",
    "\n",
    "In summary, here's what'd be printed in the two cases:\n",
    "\n",
    "### What gets printed if abc is the main program\n",
    "before import\n",
    "before function_a\n",
    "before function_b\n",
    "before __name__ guard\n",
    "Function A\n",
    "Function B 10.0\n",
    "after __name__ guard\n",
    "\n",
    "### What gets printed if abc is imported as a regular module\n",
    "before import\n",
    "before function_a\n",
    "before function_b\n",
    "before __name__ guard\n",
    "after __name__ guard"
   ]
  },
  {
   "cell_type": "code",
   "execution_count": 6,
   "id": "7b0ecf09",
   "metadata": {},
   "outputs": [
    {
     "name": "stdout",
     "output_type": "stream",
     "text": [
      "before import\n",
      "before function_a\n",
      "before function_b\n",
      "before __name__ guard\n",
      "Function A\n",
      "Function B 10.0\n",
      "after __name__ guard\n"
     ]
    }
   ],
   "source": [
    "%run abc.py"
   ]
  },
  {
   "cell_type": "code",
   "execution_count": 9,
   "id": "eea5969c",
   "metadata": {},
   "outputs": [
    {
     "ename": "AttributeError",
     "evalue": "module 'abc' has no attribute 'function_a'",
     "output_type": "error",
     "traceback": [
      "\u001b[1;31m---------------------------------------------------------------------------\u001b[0m",
      "\u001b[1;31mAttributeError\u001b[0m                            Traceback (most recent call last)",
      "\u001b[1;32m~\\Desktop\\Python_Programs_Set_1\\def.py\u001b[0m in \u001b[0;36m<module>\u001b[1;34m\u001b[0m\n\u001b[0;32m      1\u001b[0m \u001b[1;32mimport\u001b[0m \u001b[0mabc\u001b[0m\u001b[1;33m\u001b[0m\u001b[1;33m\u001b[0m\u001b[0m\n\u001b[1;32m----> 2\u001b[1;33m \u001b[0mabc\u001b[0m\u001b[1;33m.\u001b[0m\u001b[0mfunction_a\u001b[0m\u001b[1;33m(\u001b[0m\u001b[1;33m)\u001b[0m\u001b[1;33m\u001b[0m\u001b[1;33m\u001b[0m\u001b[0m\n\u001b[0m\u001b[0;32m      3\u001b[0m \u001b[0mabc\u001b[0m\u001b[1;33m.\u001b[0m\u001b[0mfunction_b\u001b[0m\u001b[1;33m(\u001b[0m\u001b[1;33m)\u001b[0m\u001b[1;33m\u001b[0m\u001b[1;33m\u001b[0m\u001b[0m\n\u001b[0;32m      4\u001b[0m \u001b[0mprint\u001b[0m\u001b[1;33m(\u001b[0m\u001b[1;34m\"Done!\"\u001b[0m\u001b[1;33m)\u001b[0m\u001b[1;33m\u001b[0m\u001b[1;33m\u001b[0m\u001b[0m\n",
      "\u001b[1;31mAttributeError\u001b[0m: module 'abc' has no attribute 'function_a'"
     ]
    }
   ],
   "source": [
    "%run def.py"
   ]
  },
  {
   "cell_type": "code",
   "execution_count": null,
   "id": "e97eb3ac",
   "metadata": {},
   "outputs": [],
   "source": []
  }
 ],
 "metadata": {
  "kernelspec": {
   "display_name": "Python 3 (ipykernel)",
   "language": "python",
   "name": "python3"
  },
  "language_info": {
   "codemirror_mode": {
    "name": "ipython",
    "version": 3
   },
   "file_extension": ".py",
   "mimetype": "text/x-python",
   "name": "python",
   "nbconvert_exporter": "python",
   "pygments_lexer": "ipython3",
   "version": "3.9.7"
  }
 },
 "nbformat": 4,
 "nbformat_minor": 5
}
