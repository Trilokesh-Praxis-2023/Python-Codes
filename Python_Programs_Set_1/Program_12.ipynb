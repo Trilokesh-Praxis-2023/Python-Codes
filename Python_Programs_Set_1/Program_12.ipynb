{
 "cells": [
  {
   "cell_type": "code",
   "execution_count": 1,
   "metadata": {},
   "outputs": [
    {
     "name": "stdout",
     "output_type": "stream",
     "text": [
      "apple\n",
      "orange\n",
      "mango\n"
     ]
    }
   ],
   "source": [
    "# The pass statement in Python is a null operation.\n",
    "# The pass statement is used when a statement is required syntactically but\n",
    "# we do not want any command or code to execute.\n",
    "\n",
    "fruits=['apple','orange','banana','mango']\n",
    "for item in fruits:\n",
    "    if item == \"banana\":\n",
    "        pass\n",
    "    else:\n",
    "        print (item)"
   ]
  },
  {
   "cell_type": "code",
   "execution_count": null,
   "metadata": {},
   "outputs": [],
   "source": []
  },
  {
   "cell_type": "code",
   "execution_count": null,
   "metadata": {},
   "outputs": [],
   "source": []
  }
 ],
 "metadata": {
  "kernelspec": {
   "display_name": "Python 3 (ipykernel)",
   "language": "python",
   "name": "python3"
  },
  "language_info": {
   "codemirror_mode": {
    "name": "ipython",
    "version": 3
   },
   "file_extension": ".py",
   "mimetype": "text/x-python",
   "name": "python",
   "nbconvert_exporter": "python",
   "pygments_lexer": "ipython3",
   "version": "3.9.7"
  }
 },
 "nbformat": 4,
 "nbformat_minor": 2
}
