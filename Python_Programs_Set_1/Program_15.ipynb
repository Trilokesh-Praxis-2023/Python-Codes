{
 "cells": [
  {
   "cell_type": "code",
   "execution_count": 1,
   "metadata": {},
   "outputs": [],
   "source": [
    "# Example of paramaters passing by reference\n",
    "# All parameters in the Python functions are passed by reference.\n",
    "# Therefore, if a parameter is changed within a function the change \n",
    "# is also reflected back in the calling function.\n",
    "# This example shows parameter passing by reference.\n",
    "\n",
    "def displayFruits(fruits):\n",
    "    print (\"There are %d fruits in the list\" % (len(fruits)))\n",
    "    for item in fruits:\n",
    "        print (item)\n",
    "    print (\"Adding one more fruit\")\n",
    "    fruits.append('mango')"
   ]
  },
  {
   "cell_type": "code",
   "execution_count": 2,
   "metadata": {},
   "outputs": [
    {
     "name": "stdout",
     "output_type": "stream",
     "text": [
      "There are 3 fruits in the list\n",
      "banana\n",
      "pear\n",
      "apple\n",
      "Adding one more fruit\n",
      "There are 4 fruits in the list\n",
      "banana\n",
      "pear\n",
      "apple\n",
      "mango\n"
     ]
    }
   ],
   "source": [
    "fruits=['banana','pear','apple']\n",
    "displayFruits(fruits)\n",
    "print (\"There are %d fruits in the list\" % (len(fruits)))\n",
    "for item in fruits:\n",
    "        print (item)"
   ]
  },
  {
   "cell_type": "code",
   "execution_count": null,
   "metadata": {
    "collapsed": true
   },
   "outputs": [],
   "source": []
  }
 ],
 "metadata": {
  "kernelspec": {
   "display_name": "Python 3 (ipykernel)",
   "language": "python",
   "name": "python3"
  },
  "language_info": {
   "codemirror_mode": {
    "name": "ipython",
    "version": 3
   },
   "file_extension": ".py",
   "mimetype": "text/x-python",
   "name": "python",
   "nbconvert_exporter": "python",
   "pygments_lexer": "ipython3",
   "version": "3.9.13"
  }
 },
 "nbformat": 4,
 "nbformat_minor": 2
}
