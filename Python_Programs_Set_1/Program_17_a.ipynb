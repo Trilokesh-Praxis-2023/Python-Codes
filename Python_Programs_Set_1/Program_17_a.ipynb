{
 "cells": [
  {
   "cell_type": "markdown",
   "metadata": {},
   "source": [
    "### What is Python *args ? "
   ]
  },
  {
   "cell_type": "code",
   "execution_count": 10,
   "metadata": {},
   "outputs": [],
   "source": [
    "#*args and *kwargs in Python\n",
    "#The special syntax *args in function definitions in python is used to\n",
    "#pass a variable number of arguments to a function. It is used to pass\n",
    "#a non-key worded, variable-length argument list."
   ]
  },
  {
   "cell_type": "code",
   "execution_count": 6,
   "metadata": {},
   "outputs": [
    {
     "name": "stdout",
     "output_type": "stream",
     "text": [
      "Welcome\n",
      "to\n",
      "Praxis\n",
      "Kolkata\n"
     ]
    }
   ],
   "source": [
    "def myFun(*paramv):\n",
    "    for item in paramv:\n",
    "        print(item)\n",
    "  \n",
    "  \n",
    "myFun('Welcome', 'to', 'Praxis', 'Kolkata')"
   ]
  },
  {
   "cell_type": "code",
   "execution_count": 7,
   "metadata": {},
   "outputs": [],
   "source": [
    "myFun()"
   ]
  },
  {
   "cell_type": "code",
   "execution_count": 5,
   "metadata": {},
   "outputs": [
    {
     "name": "stdout",
     "output_type": "stream",
     "text": [
      "First argument : Hello\n",
      "Next argument in the parameter list: Welcome\n",
      "Next argument in the parameter list: to\n",
      "Next argument in the parameter list: Praxis\n"
     ]
    }
   ],
   "source": [
    "def myFun(arg1, *argv):\n",
    "    print(\"First argument :\", arg1)\n",
    "    for item in argv:\n",
    "        print(\"Next argument in the parameter list:\", item)\n",
    "  \n",
    "  \n",
    "myFun('Hello', 'Welcome', 'to', 'Praxis')"
   ]
  },
  {
   "cell_type": "markdown",
   "metadata": {},
   "source": [
    "### Python **kwargs\n",
    "The special syntax **kwargs in function definitions in python is used to pass a keyworded, variable-length argument list. We use the name kwargs with the double star. The reason is that the double star allows us to pass through keyword arguments (and any number of them).\n",
    "\n",
    "A keyword argument is where you provide a name to the variable as you pass it into the function.\n",
    "One can think of the kwargs as being a dictionary that maps each keyword to the value that we pass alongside it. That is why when we iterate over the kwargs there doesn’t seem to be any order in which they were printed out."
   ]
  },
  {
   "cell_type": "code",
   "execution_count": 10,
   "metadata": {},
   "outputs": [
    {
     "name": "stdout",
     "output_type": "stream",
     "text": [
      "FirstName == Alex\n",
      "Batch == 1st Year\n",
      "Branch == CSE\n",
      "Address == abc\n"
     ]
    }
   ],
   "source": [
    "def myFun(**kwargs):\n",
    "    for key, value in kwargs.items():\n",
    "        print(\"%s == %s\" % (key, value))\n",
    "  \n",
    "  \n",
    "myFun(FirstName='Alex', Batch='1st Year', Branch='CSE', Address = 'abc')"
   ]
  },
  {
   "cell_type": "code",
   "execution_count": 21,
   "metadata": {},
   "outputs": [
    {
     "name": "stdout",
     "output_type": "stream",
     "text": [
      "First argument : Hi\n",
      "arg1 == Praxis\n",
      "arg2 == Business\n",
      "arg3 == School\n"
     ]
    }
   ],
   "source": [
    "def myFun(arg, **kwargs):\n",
    "    print(\"First argument :\", arg)\n",
    "    for key, value in kwargs.items():\n",
    "        print(\"%s == %s\" % (key, value))\n",
    "  \n",
    "myFun(\"Hi\", arg1='Praxis', arg2='Business', arg3 = 'School')"
   ]
  },
  {
   "cell_type": "markdown",
   "metadata": {},
   "source": [
    "Using both *args and **kwargs to call a function\n",
    "\n",
    "Example 1:\n",
    "\n",
    "Here, we are passing *args and **kwargs as an argument in the myFun function. By passing *args to myFun simply means that we pass the positional and variable-length arguments which are contained by args. so, “Geeks” pass to the arg1 , “for” pass to the arg2, and “Geeks” pass to the arg3. When we pass **kwargs as an argument to the myFun it means that it accepts keyword arguments. Here, “arg1” is key and the value is “Geeks” which is passed to arg1, and just like that “for” and “Geeks” pass to arg2 and arg3 respectively. After passing all the data we are printing all the data in lines. "
   ]
  },
  {
   "cell_type": "code",
   "execution_count": 16,
   "metadata": {},
   "outputs": [],
   "source": [
    "def myFun(arg1, arg2, arg3):\n",
    "    print(\"arg1:\", arg1)\n",
    "    print(\"arg2:\", arg2)\n",
    "    print(\"arg3:\", arg3)\n",
    "\n",
    "# Now we can use *args or **kwargs to\n",
    "# pass arguments to this function"
   ]
  },
  {
   "cell_type": "code",
   "execution_count": 17,
   "metadata": {},
   "outputs": [
    {
     "name": "stdout",
     "output_type": "stream",
     "text": [
      "arg1: Praxis\n",
      "arg2: Business\n",
      "arg3: School\n"
     ]
    }
   ],
   "source": [
    "args = (\"Praxis\", \"Business\", \"School\")\n",
    "myFun(*args)"
   ]
  },
  {
   "cell_type": "code",
   "execution_count": 18,
   "metadata": {},
   "outputs": [
    {
     "name": "stdout",
     "output_type": "stream",
     "text": [
      "arg1: Praxis\n",
      "arg2: Business\n",
      "arg3: School\n"
     ]
    }
   ],
   "source": [
    "kwargs = {\"arg1\": \"Praxis\", \"arg2\": \"Business\", \"arg3\": \"School\"}\n",
    "myFun(**kwargs)"
   ]
  },
  {
   "cell_type": "markdown",
   "metadata": {},
   "source": [
    "Example 2:\n",
    "\n",
    "Here, we are passing *args and **kwargs as an argument in the myFun function. where ‘Praxis’, ‘Business’, ‘School’ is passed as *args, and first=”Praxis”, mid=”Business”, last=”School”  is passed as **kwargs and printing in the same line."
   ]
  },
  {
   "cell_type": "code",
   "execution_count": 22,
   "metadata": {},
   "outputs": [
    {
     "name": "stdout",
     "output_type": "stream",
     "text": [
      "args:  ('Praxis', 'Business', 'School')\n",
      "kwargs:  {'first': 'Praxis', 'mid': 'Business', 'last': 'School'}\n"
     ]
    }
   ],
   "source": [
    "def myFun(*args, **kwargs):\n",
    "    print(\"args: \", args)\n",
    "    print(\"kwargs: \", kwargs)\n",
    "  \n",
    "  \n",
    "# Now we can use both *args ,**kwargs\n",
    "# to pass arguments to this function :\n",
    "myFun('Praxis', 'Business', 'School', first=\"Praxis\", mid=\"Business\", last=\"School\")"
   ]
  },
  {
   "cell_type": "code",
   "execution_count": 23,
   "metadata": {},
   "outputs": [
    {
     "name": "stdout",
     "output_type": "stream",
     "text": [
      "Name: Bob\n",
      "age: 20\n",
      "major: CS\n"
     ]
    }
   ],
   "source": [
    "#Name is a formal argument\n",
    "#**kwargs is a keyword argument that receives all arguments except the formal argument as a dictionary\n",
    "def student(name, **kwargs):\n",
    "    print (\"Name: \" + name)\n",
    "    for key in kwargs:\n",
    "        print (key + ': ' + kwargs[key])\n",
    "student(name='Bob',age='20',major='CS')"
   ]
  },
  {
   "cell_type": "code",
   "execution_count": 24,
   "metadata": {},
   "outputs": [
    {
     "name": "stdout",
     "output_type": "stream",
     "text": [
      "Name: Mary\n",
      "age: 22\n",
      "major: IT\n",
      "minor: Phy\n",
      "addr: Kol\n"
     ]
    }
   ],
   "source": [
    "student(name='Mary', age='22', major='IT', minor='Phy', addr='Kol')"
   ]
  },
  {
   "cell_type": "code",
   "execution_count": 19,
   "metadata": {},
   "outputs": [
    {
     "name": "stdout",
     "output_type": "stream",
     "text": [
      "name: Bob\n",
      "age: 20\n",
      "major: CS\n"
     ]
    }
   ],
   "source": [
    "def student(**kwargs):\n",
    "    for key in kwargs:\n",
    "        print (key + ': ' + kwargs[key])\n",
    "student(name='Bob',age='20',major='CS')"
   ]
  },
  {
   "cell_type": "code",
   "execution_count": null,
   "metadata": {},
   "outputs": [],
   "source": []
  }
 ],
 "metadata": {
  "kernelspec": {
   "display_name": "Python 3 (ipykernel)",
   "language": "python",
   "name": "python3"
  },
  "language_info": {
   "codemirror_mode": {
    "name": "ipython",
    "version": 3
   },
   "file_extension": ".py",
   "mimetype": "text/x-python",
   "name": "python",
   "nbconvert_exporter": "python",
   "pygments_lexer": "ipython3",
   "version": "3.9.13"
  }
 },
 "nbformat": 4,
 "nbformat_minor": 2
}
