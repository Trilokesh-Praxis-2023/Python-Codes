{
 "cells": [
  {
   "cell_type": "code",
   "execution_count": 1,
   "metadata": {},
   "outputs": [
    {
     "data": {
      "text/plain": [
       "('apple', 'mango', 'banana', 'pineapple')"
      ]
     },
     "execution_count": 1,
     "metadata": {},
     "output_type": "execute_result"
    }
   ],
   "source": [
    "# Program_6_4\n",
    "# Working with Tuples\n",
    "# A tuple is a sequence elements that is similar to the list. A tuple consists of a number of\n",
    "# values separated by commas and enclosed within paratheses. Unlike lists, the elements \n",
    "# of tuples cannot be changed, so tuples can be thought of as read-only lists. \n",
    "\n",
    "fruits = (\"apple\", \"mango\", \"banana\", \"pineapple\")\n",
    "fruits"
   ]
  },
  {
   "cell_type": "code",
   "execution_count": 2,
   "metadata": {},
   "outputs": [
    {
     "data": {
      "text/plain": [
       "tuple"
      ]
     },
     "execution_count": 2,
     "metadata": {},
     "output_type": "execute_result"
    }
   ],
   "source": [
    "type(fruits)"
   ]
  },
  {
   "cell_type": "code",
   "execution_count": 3,
   "metadata": {},
   "outputs": [
    {
     "data": {
      "text/plain": [
       "4"
      ]
     },
     "execution_count": 3,
     "metadata": {},
     "output_type": "execute_result"
    }
   ],
   "source": [
    "# Get length of tuple\n",
    "len(fruits)"
   ]
  },
  {
   "cell_type": "code",
   "execution_count": 4,
   "metadata": {},
   "outputs": [
    {
     "ename": "AttributeError",
     "evalue": "'tuple' object has no attribute 'append'",
     "output_type": "error",
     "traceback": [
      "\u001b[1;31m---------------------------------------------------------------------------\u001b[0m",
      "\u001b[1;31mAttributeError\u001b[0m                            Traceback (most recent call last)",
      "\u001b[1;32m~\\AppData\\Local\\Temp/ipykernel_11604/2371528204.py\u001b[0m in \u001b[0;36m<module>\u001b[1;34m\u001b[0m\n\u001b[1;32m----> 1\u001b[1;33m \u001b[0mfruits\u001b[0m\u001b[1;33m.\u001b[0m\u001b[0mappend\u001b[0m\u001b[1;33m(\u001b[0m\u001b[1;34m'pear'\u001b[0m\u001b[1;33m)\u001b[0m\u001b[1;33m\u001b[0m\u001b[1;33m\u001b[0m\u001b[0m\n\u001b[0m",
      "\u001b[1;31mAttributeError\u001b[0m: 'tuple' object has no attribute 'append'"
     ]
    }
   ],
   "source": [
    "fruits.append('pear')"
   ]
  },
  {
   "cell_type": "code",
   "execution_count": 5,
   "metadata": {},
   "outputs": [
    {
     "ename": "AttributeError",
     "evalue": "'tuple' object has no attribute 'insert'",
     "output_type": "error",
     "traceback": [
      "\u001b[1;31m---------------------------------------------------------------------------\u001b[0m",
      "\u001b[1;31mAttributeError\u001b[0m                            Traceback (most recent call last)",
      "\u001b[1;32m~\\AppData\\Local\\Temp/ipykernel_11604/817677198.py\u001b[0m in \u001b[0;36m<module>\u001b[1;34m\u001b[0m\n\u001b[1;32m----> 1\u001b[1;33m \u001b[0mfruits\u001b[0m\u001b[1;33m.\u001b[0m\u001b[0minsert\u001b[0m\u001b[1;33m(\u001b[0m\u001b[1;36m1\u001b[0m\u001b[1;33m,\u001b[0m \u001b[1;34m'pear'\u001b[0m\u001b[1;33m)\u001b[0m\u001b[1;33m\u001b[0m\u001b[1;33m\u001b[0m\u001b[0m\n\u001b[0m\u001b[0;32m      2\u001b[0m \u001b[0mfruits\u001b[0m\u001b[1;33m\u001b[0m\u001b[1;33m\u001b[0m\u001b[0m\n",
      "\u001b[1;31mAttributeError\u001b[0m: 'tuple' object has no attribute 'insert'"
     ]
    }
   ],
   "source": [
    "fruits.insert(1, 'pear')\n",
    "fruits"
   ]
  },
  {
   "cell_type": "code",
   "execution_count": 6,
   "metadata": {},
   "outputs": [
    {
     "data": {
      "text/plain": [
       "'apple'"
      ]
     },
     "execution_count": 6,
     "metadata": {},
     "output_type": "execute_result"
    }
   ],
   "source": [
    "# Get an element from a tuple\n",
    "fruits[0]"
   ]
  },
  {
   "cell_type": "code",
   "execution_count": 7,
   "metadata": {},
   "outputs": [
    {
     "data": {
      "text/plain": [
       "('apple', 'mango')"
      ]
     },
     "execution_count": 7,
     "metadata": {},
     "output_type": "execute_result"
    }
   ],
   "source": [
    "fruits[:2]"
   ]
  },
  {
   "cell_type": "code",
   "execution_count": 8,
   "metadata": {},
   "outputs": [
    {
     "data": {
      "text/plain": [
       "('apple',)"
      ]
     },
     "execution_count": 8,
     "metadata": {},
     "output_type": "execute_result"
    }
   ],
   "source": [
    "fruits[:1]"
   ]
  },
  {
   "cell_type": "code",
   "execution_count": 11,
   "metadata": {},
   "outputs": [
    {
     "data": {
      "text/plain": [
       "('apple',\n",
       " 'mango',\n",
       " 'banana',\n",
       " 'pineapple',\n",
       " 'potato',\n",
       " 'carrot',\n",
       " 'onion',\n",
       " 'radish')"
      ]
     },
     "execution_count": 11,
     "metadata": {},
     "output_type": "execute_result"
    }
   ],
   "source": [
    "# Combining tuples\n",
    "vegetables = ('potato', 'carrot', 'onion', 'radish')\n",
    "eatables = fruits + vegetables\n",
    "eatables"
   ]
  },
  {
   "cell_type": "code",
   "execution_count": 12,
   "metadata": {},
   "outputs": [
    {
     "data": {
      "text/plain": [
       "tuple"
      ]
     },
     "execution_count": 12,
     "metadata": {},
     "output_type": "execute_result"
    }
   ],
   "source": [
    "type(eatables)"
   ]
  },
  {
   "cell_type": "code",
   "execution_count": 13,
   "metadata": {},
   "outputs": [],
   "source": [
    "# A tuple of numbers    \n",
    "tupleObj = (12 , 34, 45, 22, 33 , 67, 34, 56 )"
   ]
  },
  {
   "cell_type": "code",
   "execution_count": 15,
   "metadata": {},
   "outputs": [
    {
     "name": "stdout",
     "output_type": "stream",
     "text": [
      "Element Found\n"
     ]
    }
   ],
   "source": [
    "# Check if element 34 exists in tuple\n",
    "if 34 in tupleObj:\n",
    "    print(\"Element Found\")\n",
    "else:\n",
    "    print(\"Element not Found in Tuple\")  "
   ]
  },
  {
   "cell_type": "code",
   "execution_count": 16,
   "metadata": {},
   "outputs": [
    {
     "name": "stdout",
     "output_type": "stream",
     "text": [
      "Yes, element Not In tuple\n"
     ]
    }
   ],
   "source": [
    "# Check if element 1001 doesn't exist in tuple    \n",
    "if 1001 not in tupleObj:\n",
    "    print(\"Yes, element Not In tuple\")\n",
    "else:\n",
    "    print(\"Element is in Tuple\")    "
   ]
  },
  {
   "cell_type": "code",
   "execution_count": 4,
   "metadata": {},
   "outputs": [
    {
     "name": "stdout",
     "output_type": "stream",
     "text": [
      "Element 34 Found at :  1\n"
     ]
    }
   ],
   "source": [
    "# Find the index of 34 in tuple, if not found then handle the exception\n",
    "try :\n",
    "    pos = tupleObj.index(34)\n",
    "    print(\"Element 34 Found at : \" , pos)\n",
    "except ValueError as e:\n",
    "    print(e)    "
   ]
  },
  {
   "cell_type": "code",
   "execution_count": 5,
   "metadata": {},
   "outputs": [
    {
     "name": "stdout",
     "output_type": "stream",
     "text": [
      "tuple.index(x): x not in tuple\n"
     ]
    }
   ],
   "source": [
    "# Find the index of 24 in tuple, if not found then handle the exception\n",
    "try :\n",
    "    pos = tupleObj.index(24)\n",
    "    print(\"Element 24 Found at : \" , pos)\n",
    "except ValueError as e:\n",
    "    print(e)"
   ]
  },
  {
   "cell_type": "code",
   "execution_count": 6,
   "metadata": {},
   "outputs": [
    {
     "name": "stdout",
     "output_type": "stream",
     "text": [
      "Count of 34 in tuple is :  2\n"
     ]
    }
   ],
   "source": [
    "# Get the count of how many times 34 appears in tuple\n",
    "count = tupleObj.count(34)\n",
    "print(\"Count of 34 in tuple is : \", count)"
   ]
  },
  {
   "cell_type": "code",
   "execution_count": 7,
   "metadata": {},
   "outputs": [
    {
     "name": "stdout",
     "output_type": "stream",
     "text": [
      "34 Found in Tuple\n"
     ]
    }
   ],
   "source": [
    "if tupleObj.count(34) > 0 :\n",
    "    print(\"34 Found in Tuple\")\n",
    "else:\n",
    "    print(\"34 Not Found in Tuple\")"
   ]
  },
  {
   "cell_type": "code",
   "execution_count": 8,
   "metadata": {},
   "outputs": [
    {
     "name": "stdout",
     "output_type": "stream",
     "text": [
      "**** Find an element in tuple using 'in' & 'not in' *****\n",
      "Element Found in Tuple\n",
      "Yes, element Not In tuple\n",
      "**** Find the index of an element in Tuple *****\n",
      "tuple.index(x): x not in tuple\n",
      "Element 34 Found at :  1\n",
      "**** Find the occurence count an element in the Tuple *****\n",
      "Count of 34 in tuple is :  2\n",
      "34 Found in Tuple\n"
     ]
    }
   ],
   "source": [
    "def main():\n",
    "    \n",
    "    # A tuple of numbers    \n",
    "    tupleObj = (12 , 34, 45, 22, 33 , 67, 34, 56 )\n",
    "    \n",
    "    print(\"**** Find an element in tuple using 'in' & 'not in' *****\")\n",
    "    \n",
    "    # Check if element 34 exists in tuple\n",
    "    if 34 in tupleObj:\n",
    "        print(\"Element Found in Tuple\")\n",
    "    else:\n",
    "        print(\"Element not Found in Tuple\")    \n",
    "    \n",
    "    # Check if element 1001 doesn't exists in tuple    \n",
    "    if 1001 not in tupleObj:\n",
    "        print(\"Yes, element Not In tuple\")\n",
    "    else:\n",
    "        print(\"Element is in Tuple\")    \n",
    "    \n",
    "    print(\"**** Find the index of an element in Tuple *****\")\n",
    "    \n",
    "    # Find the index of 24 in tuple, if not found then handle the exception\n",
    "    try :\n",
    "        pos = tupleObj.index(24)\n",
    "        print(\"Element 24 Found at : \" , pos)\n",
    "    except ValueError as e:\n",
    "        print(e)\n",
    "    \n",
    "    # Find the index of 34 in tuple, if not found then handle the exception\n",
    "    try :\n",
    "        pos = tupleObj.index(34)\n",
    "        print(\"Element 34 Found at : \" , pos)\n",
    "    except ValueError as e:\n",
    "        print(e)    \n",
    "    \n",
    "    print(\"**** Find the occurence count an element in the Tuple *****\")    \n",
    "    \n",
    "    # Get the count of how many times 34 appears in tuple\n",
    "    count = tupleObj.count(34)\n",
    "    \n",
    "    print(\"Count of 34 in tuple is : \", count)\n",
    "   \n",
    "    # Based on occurrence count check if element exists in tuple\n",
    "    if tupleObj.count(34) > 0 :\n",
    "        print(\"34 Found in Tuple\")\n",
    "    else:\n",
    "        print(\"34 Not Found in Tuple\")    \n",
    "        \n",
    "         \n",
    "           \n",
    "if __name__ == '__main__':\n",
    "    main()"
   ]
  },
  {
   "cell_type": "code",
   "execution_count": null,
   "metadata": {},
   "outputs": [],
   "source": []
  }
 ],
 "metadata": {
  "kernelspec": {
   "display_name": "Python 3 (ipykernel)",
   "language": "python",
   "name": "python3"
  },
  "language_info": {
   "codemirror_mode": {
    "name": "ipython",
    "version": 3
   },
   "file_extension": ".py",
   "mimetype": "text/x-python",
   "name": "python",
   "nbconvert_exporter": "python",
   "pygments_lexer": "ipython3",
   "version": "3.9.7"
  }
 },
 "nbformat": 4,
 "nbformat_minor": 2
}
