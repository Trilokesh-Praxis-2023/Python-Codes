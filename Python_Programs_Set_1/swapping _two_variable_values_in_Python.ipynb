{
 "cells": [
  {
   "cell_type": "code",
   "execution_count": 2,
   "id": "044bd75e",
   "metadata": {},
   "outputs": [],
   "source": [
    "def swap(x, y):\n",
    "    temp = x\n",
    "    x = y\n",
    "    y = temp\n",
    "    print(\"After swapping\")\n",
    "    print(\"Value of first number :\", x)\n",
    "    print(\"Value of second number :\", y)    \n",
    "    \n",
    "    return"
   ]
  },
  {
   "cell_type": "code",
   "execution_count": 3,
   "id": "1c0a5bd6",
   "metadata": {},
   "outputs": [],
   "source": [
    "def main():\n",
    "    num1 = int(input(\"Enter first number :\"))\n",
    "    num2 = int(input(\"Enter second number :\"))\n",
    "    print(\"Before swapping\")\n",
    "    print(\"Value of first number :\",num1)\n",
    "    print(\"Value of second number :\",num2)\n",
    "    swap(num1,num2)\n",
    "    \n",
    "    return"
   ]
  },
  {
   "cell_type": "code",
   "execution_count": 4,
   "id": "02d037f4",
   "metadata": {},
   "outputs": [],
   "source": [
    "if __name__ == '__main__':\n",
    "    main()\n",
    "    swap()"
   ]
  },
  {
   "cell_type": "code",
   "execution_count": null,
   "id": "6decda72",
   "metadata": {},
   "outputs": [],
   "source": []
  }
 ],
 "metadata": {
  "kernelspec": {
   "display_name": "Python 3 (ipykernel)",
   "language": "python",
   "name": "python3"
  },
  "language_info": {
   "codemirror_mode": {
    "name": "ipython",
    "version": 3
   },
   "file_extension": ".py",
   "mimetype": "text/x-python",
   "name": "python",
   "nbconvert_exporter": "python",
   "pygments_lexer": "ipython3",
   "version": "3.10.12"
  }
 },
 "nbformat": 4,
 "nbformat_minor": 5
}
