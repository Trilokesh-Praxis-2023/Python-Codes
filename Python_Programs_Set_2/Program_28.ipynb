{
 "cells": [
  {
   "cell_type": "code",
   "execution_count": 1,
   "metadata": {},
   "outputs": [
    {
     "name": "stdout",
     "output_type": "stream",
     "text": [
      "Date: 03-10-23\n"
     ]
    }
   ],
   "source": [
    "# Date and Time Operations\n",
    "# Python provides several functions for date and time access and conversions.\n",
    "# This program shows how to manipulate dates\n",
    "\n",
    "# Examples of manipulating with date\n",
    "\n",
    "from datetime import date\n",
    "now = date.today()\n",
    "print(\"Date: \" + now.strftime(\"%m-%d-%y\"))"
   ]
  },
  {
   "cell_type": "code",
   "execution_count": 4,
   "metadata": {},
   "outputs": [
    {
     "name": "stdout",
     "output_type": "stream",
     "text": [
      "Year: 2023\n"
     ]
    }
   ],
   "source": [
    "now = date.today()\n",
    "print(\"Year: \" + now.strftime(\"%Y\"))"
   ]
  },
  {
   "cell_type": "code",
   "execution_count": 6,
   "metadata": {},
   "outputs": [
    {
     "name": "stdout",
     "output_type": "stream",
     "text": [
      "Day: 10\n"
     ]
    }
   ],
   "source": [
    "now = date.today()\n",
    "print(\"Day: \" + now.strftime(\"%d\"))"
   ]
  },
  {
   "cell_type": "code",
   "execution_count": 7,
   "metadata": {},
   "outputs": [
    {
     "name": "stdout",
     "output_type": "stream",
     "text": [
      "Year: 23\n"
     ]
    }
   ],
   "source": [
    "now = date.today()\n",
    "print(\"Year: \" + now.strftime(\"%y\"))"
   ]
  },
  {
   "cell_type": "code",
   "execution_count": 2,
   "metadata": {},
   "outputs": [
    {
     "name": "stdout",
     "output_type": "stream",
     "text": [
      "Month: 03\n"
     ]
    }
   ],
   "source": [
    "now = date.today()\n",
    "print(\"Month: \" + now.strftime(\"%m\"))"
   ]
  },
  {
   "cell_type": "code",
   "execution_count": 3,
   "metadata": {},
   "outputs": [
    {
     "name": "stdout",
     "output_type": "stream",
     "text": [
      "Date: 10-03-2023\n"
     ]
    }
   ],
   "source": [
    "now = date.today()\n",
    "print(\"Date: \" + now.strftime(\"%d-%m-%Y\"))"
   ]
  },
  {
   "cell_type": "code",
   "execution_count": 6,
   "metadata": {},
   "outputs": [
    {
     "name": "stdout",
     "output_type": "stream",
     "text": [
      "Time: 12:58:22\n"
     ]
    }
   ],
   "source": [
    "from datetime import datetime\n",
    "now = datetime.now()\n",
    "print(\"Time: \" + now.strftime(\"%H:%M:%S\"))"
   ]
  },
  {
   "cell_type": "code",
   "execution_count": 7,
   "metadata": {},
   "outputs": [
    {
     "name": "stdout",
     "output_type": "stream",
     "text": [
      "date and time: 03/10/2023, 12:58:22\n"
     ]
    }
   ],
   "source": [
    "date_time = now.strftime(\"%m/%d/%Y, %H:%M:%S\")\n",
    "print(\"date and time:\",date_time)"
   ]
  },
  {
   "cell_type": "code",
   "execution_count": 8,
   "metadata": {},
   "outputs": [
    {
     "name": "stdout",
     "output_type": "stream",
     "text": [
      "Day of Week: Friday\n"
     ]
    }
   ],
   "source": [
    "print(\"Day of Week: \" + now.strftime(\"%A\"))"
   ]
  },
  {
   "cell_type": "code",
   "execution_count": 9,
   "metadata": {},
   "outputs": [
    {
     "name": "stdout",
     "output_type": "stream",
     "text": [
      "Month: March\n"
     ]
    }
   ],
   "source": [
    "print(\"Month: \" + now.strftime(\"%B\"))"
   ]
  },
  {
   "cell_type": "code",
   "execution_count": 11,
   "metadata": {},
   "outputs": [
    {
     "name": "stdout",
     "output_type": "stream",
     "text": [
      "Date and Time: Fri Mar 10 12:58:22 2023\n"
     ]
    }
   ],
   "source": [
    "print(\"Date and Time: \" + now.strftime(\"%c\"))"
   ]
  },
  {
   "cell_type": "code",
   "execution_count": 12,
   "metadata": {},
   "outputs": [
    {
     "name": "stdout",
     "output_type": "stream",
     "text": [
      "Date: 03/10/23\n"
     ]
    }
   ],
   "source": [
    "print(\"Date: \" + now.strftime(\"%D\"))"
   ]
  },
  {
   "cell_type": "code",
   "execution_count": 13,
   "metadata": {},
   "outputs": [
    {
     "name": "stdout",
     "output_type": "stream",
     "text": [
      "0:00:00\n"
     ]
    }
   ],
   "source": [
    "import datetime\n",
    "first_time = datetime.datetime.now()\n",
    "later_time = datetime.datetime.now()\n",
    "difference = later_time - first_time\n",
    "print(difference)"
   ]
  },
  {
   "cell_type": "code",
   "execution_count": 14,
   "metadata": {},
   "outputs": [
    {
     "data": {
      "text/plain": [
       "3136"
      ]
     },
     "execution_count": 14,
     "metadata": {},
     "output_type": "execute_result"
    }
   ],
   "source": [
    "then1=date(2014, 8, 8)\n",
    "then2=date(2023, 3, 10)\n",
    "timediff1 = then2 - then1\n",
    "timediff1.days"
   ]
  },
  {
   "cell_type": "code",
   "execution_count": 16,
   "metadata": {},
   "outputs": [
    {
     "ename": "AttributeError",
     "evalue": "'datetime.timedelta' object has no attribute 'years'",
     "output_type": "error",
     "traceback": [
      "\u001b[1;31m---------------------------------------------------------------------------\u001b[0m",
      "\u001b[1;31mAttributeError\u001b[0m                            Traceback (most recent call last)",
      "\u001b[1;32m~\\AppData\\Local\\Temp\\ipykernel_9852\\3947423220.py\u001b[0m in \u001b[0;36m<module>\u001b[1;34m\u001b[0m\n\u001b[1;32m----> 1\u001b[1;33m \u001b[0mtimediff1\u001b[0m\u001b[1;33m.\u001b[0m\u001b[0myears\u001b[0m\u001b[1;33m\u001b[0m\u001b[1;33m\u001b[0m\u001b[0m\n\u001b[0m",
      "\u001b[1;31mAttributeError\u001b[0m: 'datetime.timedelta' object has no attribute 'years'"
     ]
    }
   ],
   "source": [
    "timediff1.years"
   ]
  },
  {
   "cell_type": "code",
   "execution_count": 17,
   "metadata": {},
   "outputs": [
    {
     "name": "stdout",
     "output_type": "stream",
     "text": [
      "2023-03-10 13:11:46.139641\n"
     ]
    }
   ],
   "source": [
    "from datetime import datetime\n",
    "\n",
    "# get current date and time\n",
    "currentTimeDate = datetime.now()\n",
    "\n",
    "print(currentTimeDate)"
   ]
  },
  {
   "cell_type": "code",
   "execution_count": 29,
   "metadata": {},
   "outputs": [
    {
     "name": "stdout",
     "output_type": "stream",
     "text": [
      "23:03:10\n"
     ]
    }
   ],
   "source": [
    "# get only date in yyyy-mm-dd format\n",
    "currentDate = currentTimeDate.strftime('%y:%m:%d')\n",
    "print(currentDate)"
   ]
  },
  {
   "cell_type": "code",
   "execution_count": 31,
   "metadata": {},
   "outputs": [
    {
     "name": "stdout",
     "output_type": "stream",
     "text": [
      "03:10:2023\n"
     ]
    }
   ],
   "source": [
    "currentDate = currentTimeDate.strftime('%m:%d:%Y')\n",
    "print(currentDate)"
   ]
  },
  {
   "cell_type": "code",
   "execution_count": 33,
   "metadata": {},
   "outputs": [
    {
     "name": "stdout",
     "output_type": "stream",
     "text": [
      "2023:03:10\n"
     ]
    }
   ],
   "source": [
    "currentDate = currentTimeDate.strftime('%Y:%m:%d')\n",
    "print(currentDate)"
   ]
  },
  {
   "cell_type": "raw",
   "metadata": {},
   "source": [
    "Datetime format specification \n",
    "\n",
    "Type Description\n",
    "%Y 4-digit year\n",
    "%y 2-digit year\n",
    "%m 2-digit month [01, 12]\n",
    "%d 2-digit day [01, 31]\n",
    "%H Hour (24-hour clock) [00, 23]\n",
    "%I Hour (12-hour clock) [01, 12]\n",
    "%M 2-digit minute [00, 59]\n",
    "%S Second [00, 61] (seconds 60, 61 account for leap seconds)\n",
    "%w Weekday as integer [0 (Sunday), 6]\n",
    "%U Week number of the year [00, 53]. Sunday is considered the first day of the week, and days before the first Sunday of the year are “week 0”.\n",
    "%W Week number of the year [00, 53]. Monday is considered the first day of the week, and days before the first Monday of the year are “week 0”.\n",
    "%z UTC time zone offset as +HHMM or -HHMM, empty if time zone naive\n",
    "%F Shortcut for %Y-%m-%d, for example 2012-4-18\n",
    "%D Shortcut for %m/%d/%y, for example 04/18/12"
   ]
  },
  {
   "cell_type": "raw",
   "metadata": {},
   "source": [
    "Locale-specific date formatting\n",
    "Type Description\n",
    "%a Abbreviated weekday name\n",
    "%A Full weekday name\n",
    "%b Abbreviated month name\n",
    "%B Full month name\n",
    "%c Full date and time, for example ‘Tue 01 May 2012 04:20:57 PM’\n",
    "%p Locale equivalent of AM or PM\n",
    "%x Locale-appropriate formatted date; e.g. in US May 1, 2012 yields ’05/01/2012’\n",
    "%X Locale-appropriate time, e.g. ’04:24:12 PM’"
   ]
  },
  {
   "cell_type": "code",
   "execution_count": 18,
   "metadata": {},
   "outputs": [
    {
     "name": "stdout",
     "output_type": "stream",
     "text": [
      "Day of the week: 5\n"
     ]
    }
   ],
   "source": [
    "now = date.today()\n",
    "print(\"Day of the week: \" + now.strftime(\"%w\"))"
   ]
  },
  {
   "cell_type": "code",
   "execution_count": 44,
   "metadata": {},
   "outputs": [
    {
     "name": "stdout",
     "output_type": "stream",
     "text": [
      "Week No: 10\n"
     ]
    }
   ],
   "source": [
    "now = date.today()\n",
    "print(\"Week No: \" + now.strftime(\"%W\"))  # Week number of the year Moday considered first day of the week"
   ]
  },
  {
   "cell_type": "code",
   "execution_count": 45,
   "metadata": {},
   "outputs": [
    {
     "name": "stdout",
     "output_type": "stream",
     "text": [
      "Week No: 10\n"
     ]
    }
   ],
   "source": [
    "now = date.today()\n",
    "print(\"Week No: \" + now.strftime(\"%U\")) #Week number of the year; Sunday considered the first day of the week"
   ]
  },
  {
   "cell_type": "code",
   "execution_count": 19,
   "metadata": {},
   "outputs": [
    {
     "name": "stdout",
     "output_type": "stream",
     "text": [
      "UTC Time Zone: \n"
     ]
    }
   ],
   "source": [
    "now = datetime.now()\n",
    "print(\"UTC Time Zone: \" + now.strftime(\"%z\"))  # Naive Zone "
   ]
  },
  {
   "cell_type": "code",
   "execution_count": 20,
   "metadata": {},
   "outputs": [
    {
     "name": "stdout",
     "output_type": "stream",
     "text": [
      "Date: 2023-03-10\n"
     ]
    }
   ],
   "source": [
    "now = datetime.now()\n",
    "print(\"Date: \" + now.strftime(\"%F\"))  # Shortcut of %Y-%m-%d "
   ]
  },
  {
   "cell_type": "code",
   "execution_count": 21,
   "metadata": {},
   "outputs": [
    {
     "name": "stdout",
     "output_type": "stream",
     "text": [
      "Date: 03/10/23\n"
     ]
    }
   ],
   "source": [
    "now = date.today()\n",
    "print(\"Date: \" + now.strftime(\"%D\"))  # Shortcut of %m/%d/%y"
   ]
  },
  {
   "cell_type": "code",
   "execution_count": 22,
   "metadata": {},
   "outputs": [
    {
     "name": "stdout",
     "output_type": "stream",
     "text": [
      "Date: Fri\n"
     ]
    }
   ],
   "source": [
    "now = datetime.now()\n",
    "print(\"Date: \" + now.strftime(\"%a\"))"
   ]
  },
  {
   "cell_type": "code",
   "execution_count": 23,
   "metadata": {},
   "outputs": [
    {
     "name": "stdout",
     "output_type": "stream",
     "text": [
      "Date: Friday\n"
     ]
    }
   ],
   "source": [
    "now = datetime.now()\n",
    "print(\"Date: \" + now.strftime(\"%A\"))"
   ]
  },
  {
   "cell_type": "code",
   "execution_count": 24,
   "metadata": {},
   "outputs": [
    {
     "name": "stdout",
     "output_type": "stream",
     "text": [
      "Date: Mar\n"
     ]
    }
   ],
   "source": [
    "now = datetime.now()\n",
    "print(\"Date: \" + now.strftime(\"%b\"))"
   ]
  },
  {
   "cell_type": "code",
   "execution_count": 25,
   "metadata": {},
   "outputs": [
    {
     "name": "stdout",
     "output_type": "stream",
     "text": [
      "Date: March\n"
     ]
    }
   ],
   "source": [
    "now = datetime.now()\n",
    "print(\"Date: \" + now.strftime(\"%B\"))"
   ]
  },
  {
   "cell_type": "code",
   "execution_count": 26,
   "metadata": {},
   "outputs": [
    {
     "name": "stdout",
     "output_type": "stream",
     "text": [
      "Date: Fri Mar 10 13:28:47 2023\n"
     ]
    }
   ],
   "source": [
    "now = datetime.now()\n",
    "print(\"Date: \" + now.strftime(\"%c\")) # Full date and time"
   ]
  },
  {
   "cell_type": "code",
   "execution_count": 27,
   "metadata": {},
   "outputs": [
    {
     "name": "stdout",
     "output_type": "stream",
     "text": [
      "Date: 20\n"
     ]
    }
   ],
   "source": [
    "now = datetime.now()\n",
    "print(\"Date: \" + now.strftime(\"%C\"))"
   ]
  },
  {
   "cell_type": "code",
   "execution_count": 28,
   "metadata": {},
   "outputs": [
    {
     "name": "stdout",
     "output_type": "stream",
     "text": [
      "Date: PM\n"
     ]
    }
   ],
   "source": [
    "now = datetime.now()\n",
    "print(\"Date: \" + now.strftime(\"%p\"))"
   ]
  },
  {
   "cell_type": "code",
   "execution_count": 29,
   "metadata": {},
   "outputs": [
    {
     "name": "stdout",
     "output_type": "stream",
     "text": [
      "Date: 03/10/23\n"
     ]
    }
   ],
   "source": [
    "now = datetime.now()\n",
    "print(\"Date: \" + now.strftime(\"%x\")) # local appropriate formatted date"
   ]
  },
  {
   "cell_type": "code",
   "execution_count": 30,
   "metadata": {},
   "outputs": [
    {
     "name": "stdout",
     "output_type": "stream",
     "text": [
      "Date: 13:35:17\n"
     ]
    }
   ],
   "source": [
    "now = datetime.now()\n",
    "print(\"Date: \" + now.strftime(\"%X\")) #local appropriate formatted time"
   ]
  },
  {
   "cell_type": "code",
   "execution_count": null,
   "metadata": {},
   "outputs": [],
   "source": []
  }
 ],
 "metadata": {
  "kernelspec": {
   "display_name": "Python 3 (ipykernel)",
   "language": "python",
   "name": "python3"
  },
  "language_info": {
   "codemirror_mode": {
    "name": "ipython",
    "version": 3
   },
   "file_extension": ".py",
   "mimetype": "text/x-python",
   "name": "python",
   "nbconvert_exporter": "python",
   "pygments_lexer": "ipython3",
   "version": "3.9.13"
  }
 },
 "nbformat": 4,
 "nbformat_minor": 2
}
