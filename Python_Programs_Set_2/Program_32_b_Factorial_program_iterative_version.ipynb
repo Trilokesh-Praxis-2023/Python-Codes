{
 "cells": [
  {
   "cell_type": "code",
   "execution_count": 7,
   "id": "b8c3d86e",
   "metadata": {},
   "outputs": [],
   "source": [
    "num=0"
   ]
  },
  {
   "cell_type": "code",
   "execution_count": 8,
   "id": "8e646c24",
   "metadata": {},
   "outputs": [
    {
     "name": "stdout",
     "output_type": "stream",
     "text": [
      "The factorial of 0 is 1\n"
     ]
    }
   ],
   "source": [
    "factorial = 1\n",
    "# check if the number is negative, positive or zero\n",
    "if not isinstance(num, int):\n",
    "        print(\"Factorial is only defined for integers.\")\n",
    "elif num < 0:\n",
    "   print(\"Factorial does not exist for negative numbers\")\n",
    "elif num == 0:\n",
    "   print(\"The factorial of 0 is 1\")\n",
    "else:\n",
    "   for i in range(1,num + 1):\n",
    "       factorial = factorial*i\n",
    "   print(\"The factorial of\",num,\"is\",factorial)"
   ]
  },
  {
   "cell_type": "code",
   "execution_count": null,
   "id": "ba5e3c77",
   "metadata": {},
   "outputs": [],
   "source": []
  }
 ],
 "metadata": {
  "kernelspec": {
   "display_name": "Python 3 (ipykernel)",
   "language": "python",
   "name": "python3"
  },
  "language_info": {
   "codemirror_mode": {
    "name": "ipython",
    "version": 3
   },
   "file_extension": ".py",
   "mimetype": "text/x-python",
   "name": "python",
   "nbconvert_exporter": "python",
   "pygments_lexer": "ipython3",
   "version": "3.9.13"
  }
 },
 "nbformat": 4,
 "nbformat_minor": 5
}
