{
 "cells": [
  {
   "cell_type": "code",
   "execution_count": 1,
   "metadata": {},
   "outputs": [
    {
     "name": "stdout",
     "output_type": "stream",
     "text": [
      "Python supports more than one programming paradigms\n",
      "\n",
      "including object-oriented programming and structured\n",
      "\n",
      "programming\n",
      "\n",
      "Python is an interpreted language and does\n",
      "\n",
      "not require an explicit complination step.\n"
     ]
    }
   ],
   "source": [
    "# Example of reading lines in a text file in a loop\n",
    "\n",
    "fp = open('file.txt', 'r')\n",
    "lines = fp.readlines()\n",
    "for x in lines:\n",
    "    print(x)"
   ]
  },
  {
   "cell_type": "code",
   "execution_count": 2,
   "metadata": {},
   "outputs": [
    {
     "name": "stdout",
     "output_type": "stream",
     "text": [
      "['Python supports more than one programming paradigms\\n', 'including object-oriented programming and structured\\n', 'programming\\n', 'Python is an interpreted language and does\\n', 'not require an explicit complination step.']\n"
     ]
    }
   ],
   "source": [
    "fp = open('file.txt', 'r')\n",
    "lines = fp.readlines()\n",
    "print(lines)"
   ]
  },
  {
   "cell_type": "code",
   "execution_count": null,
   "metadata": {},
   "outputs": [],
   "source": []
  }
 ],
 "metadata": {
  "kernelspec": {
   "display_name": "Python 3 (ipykernel)",
   "language": "python",
   "name": "python3"
  },
  "language_info": {
   "codemirror_mode": {
    "name": "ipython",
    "version": 3
   },
   "file_extension": ".py",
   "mimetype": "text/x-python",
   "name": "python",
   "nbconvert_exporter": "python",
   "pygments_lexer": "ipython3",
   "version": "3.9.7"
  }
 },
 "nbformat": 4,
 "nbformat_minor": 2
}
