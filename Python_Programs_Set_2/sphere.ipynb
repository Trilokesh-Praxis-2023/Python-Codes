{
 "cells": [
  {
   "cell_type": "code",
   "execution_count": 5,
   "id": "f0b57303",
   "metadata": {},
   "outputs": [
    {
     "name": "stdout",
     "output_type": "stream",
     "text": [
      "113.09733552923254\n"
     ]
    }
   ],
   "source": [
    "import sphere\n",
    "\n",
    "print(sphere.volume(3))\n",
    "\n",
    "# print(circle.sphereSurface(3))"
   ]
  },
  {
   "cell_type": "code",
   "execution_count": 7,
   "id": "5ec1b270",
   "metadata": {},
   "outputs": [
    {
     "name": "stdout",
     "output_type": "stream",
     "text": [
      "201.06192982974676\n"
     ]
    }
   ],
   "source": [
    "print(sphere.surf_area(4))"
   ]
  },
  {
   "cell_type": "code",
   "execution_count": null,
   "id": "03694616",
   "metadata": {},
   "outputs": [],
   "source": []
  }
 ],
 "metadata": {
  "kernelspec": {
   "display_name": "Python 3 (ipykernel)",
   "language": "python",
   "name": "python3"
  },
  "language_info": {
   "codemirror_mode": {
    "name": "ipython",
    "version": 3
   },
   "file_extension": ".py",
   "mimetype": "text/x-python",
   "name": "python",
   "nbconvert_exporter": "python",
   "pygments_lexer": "ipython3",
   "version": "3.9.7"
  }
 },
 "nbformat": 4,
 "nbformat_minor": 5
}
