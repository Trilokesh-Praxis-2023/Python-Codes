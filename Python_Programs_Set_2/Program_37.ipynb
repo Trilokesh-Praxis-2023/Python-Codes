{
 "cells": [
  {
   "cell_type": "code",
   "execution_count": 4,
   "metadata": {},
   "outputs": [
    {
     "name": "stdout",
     "output_type": "stream",
     "text": [
      "low =  0.0 high =  1.0 ans =  0.5\n",
      "low =  0.0 high =  0.5 ans =  0.25\n",
      "numGuess =  2\n",
      "0.125 is close to square root of 0.01\n"
     ]
    }
   ],
   "source": [
    "# Using Binary Search to apprroximate square root\n",
    "x = 0.01\n",
    "epsilon = 0.01\n",
    "numGuess = 0\n",
    "low = 0.0\n",
    "high = max(1.0, x)\n",
    "#high = x\n",
    "ans = (high + low)/2.0\n",
    "while abs(ans**2 - x) >= epsilon:\n",
    "    print(\"low = \", low, \"high = \", high, \"ans = \", ans)\n",
    "    numGuess += 1\n",
    "    if ans**2 < x:\n",
    "        low = ans\n",
    "    else:\n",
    "        high = ans\n",
    "    ans = (high + low)/2.0\n",
    "print(\"numGuess = \", numGuess)\n",
    "print(ans, \"is close to square root of\", x)"
   ]
  },
  {
   "cell_type": "code",
   "execution_count": null,
   "metadata": {
    "collapsed": true
   },
   "outputs": [],
   "source": []
  }
 ],
 "metadata": {
  "kernelspec": {
   "display_name": "Python 3 (ipykernel)",
   "language": "python",
   "name": "python3"
  },
  "language_info": {
   "codemirror_mode": {
    "name": "ipython",
    "version": 3
   },
   "file_extension": ".py",
   "mimetype": "text/x-python",
   "name": "python",
   "nbconvert_exporter": "python",
   "pygments_lexer": "ipython3",
   "version": "3.9.13"
  }
 },
 "nbformat": 4,
 "nbformat_minor": 2
}
