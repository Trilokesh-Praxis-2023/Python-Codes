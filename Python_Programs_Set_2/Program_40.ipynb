{
 "cells": [
  {
   "cell_type": "code",
   "execution_count": 3,
   "metadata": {},
   "outputs": [],
   "source": [
    "# Object Oriented Programming in Python\n",
    "# Illustration a Point and a Rectangle as two objects and manipulating\n",
    "# those objects\n",
    "\n",
    "class Point():\n",
    "    \"\"\"Represents a point in 2-D space.\n",
    "       attributes: x, y.\"\"\"\n",
    "\n",
    "\n",
    "def print_point(p):\n",
    "    \"\"\"Print a Point object in human-readable format.\"\"\"\n",
    "    print ('(%d, %d)' % (p.x, p.y))\n",
    "\n",
    "\n",
    "class Rectangle():\n",
    "    \"\"\"Represents a rectangle. \n",
    "    attributes: width, height, corner.\n",
    "    \"\"\"\n",
    "\n",
    "def find_center(rect):\n",
    "    \"\"\"Returns a Point at the center of a Rectangle.\"\"\"\n",
    "    p = Point()\n",
    "    p.x = rect.corner.x + rect.width/2.0\n",
    "    p.y = rect.corner.y + rect.height/2.0\n",
    "    return p\n",
    "\n",
    "\n",
    "def grow_rectangle(rect, dwidth, dheight):\n",
    "    \"\"\"Modify the Rectangle by adding to its width and height.\n",
    "\n",
    "    rect: Rectangle object.\n",
    "    dwidth: change in width (can be negative).\n",
    "    dheight: change in height (can be negative).\n",
    "    \"\"\"\n",
    "    rect.width +=  dwidth    # rect.width = rect.width + dwidth\n",
    "    rect.height += dheight\n",
    "\n",
    "\n",
    "def main():\n",
    "    blank = Point() # Constructor of the Point class invoked an uninitialized \n",
    "    #object created\n",
    "    print(blank)\n",
    "    blank.x = 3\n",
    "    blank.y = 4\n",
    "    print(\"The coordinates of the point are:\")\n",
    "    print_point(blank)\n",
    "    # print_point(blank)\n",
    "\n",
    "    box = Rectangle() # Constructor of the Rectangle class invoked\n",
    "    print(box)\n",
    "    box.width = 100.0\n",
    "    box.height = 200.0\n",
    "    box.corner = Point()\n",
    "    box.corner.x = 10.0\n",
    "    box.corner.y = 15.0\n",
    "    print(box)\n",
    "\n",
    "    center = find_center(box)\n",
    "    # print (center)\n",
    "    print(\"The center point of the rectangle is:\")\n",
    "    print_point(center)\n",
    "    print(\"The dimensions of the rectangle are:\")\n",
    "    print (box.width)\n",
    "    print (box.height)\n",
    "    # print (grow)\n",
    "    grow_rectangle(box, 50, 100)\n",
    "    print(\"The new dimensions of the rectangle are:\")\n",
    "    print (box.width)\n",
    "    print (box.height)"
   ]
  },
  {
   "cell_type": "code",
   "execution_count": 4,
   "metadata": {},
   "outputs": [
    {
     "name": "stdout",
     "output_type": "stream",
     "text": [
      "<__main__.Point object at 0x0000022D2CFFE040>\n",
      "The coordinates of the point are:\n",
      "(3, 4)\n",
      "<__main__.Rectangle object at 0x0000022D2CFFE790>\n",
      "<__main__.Rectangle object at 0x0000022D2CFFE790>\n",
      "The center point of the rectangle is:\n",
      "(60, 115)\n",
      "The dimensions of the rectangle are:\n",
      "100.0\n",
      "200.0\n",
      "The new dimensions of the rectangle are:\n",
      "150.0\n",
      "300.0\n"
     ]
    }
   ],
   "source": [
    "main()"
   ]
  },
  {
   "cell_type": "code",
   "execution_count": 5,
   "metadata": {},
   "outputs": [
    {
     "name": "stdout",
     "output_type": "stream",
     "text": [
      "<__main__.Point object at 0x0000022D2CFFE250>\n",
      "The coordinates of the point are:\n",
      "(3, 4)\n",
      "<__main__.Rectangle object at 0x0000022D2BFD8970>\n",
      "<__main__.Rectangle object at 0x0000022D2BFD8970>\n",
      "The center point of the rectangle is:\n",
      "(60, 115)\n",
      "The dimensions of the rectangle are:\n",
      "100.0\n",
      "200.0\n",
      "The new dimensions of the rectangle are:\n",
      "150.0\n",
      "300.0\n"
     ]
    }
   ],
   "source": [
    "if __name__ == '__main__':\n",
    "    main()"
   ]
  },
  {
   "cell_type": "code",
   "execution_count": 6,
   "metadata": {},
   "outputs": [
    {
     "name": "stdout",
     "output_type": "stream",
     "text": [
      "This is my file to test Python's execution methods.\n",
      "The variable __name__ tells me which context this file is running in.\n",
      "The value of __name__ is: '__main__'\n"
     ]
    }
   ],
   "source": [
    "print(\"This is my file to test Python's execution methods.\")\n",
    "print(\"The variable __name__ tells me which context this file is running in.\")\n",
    "print(\"The value of __name__ is:\", repr(__name__))"
   ]
  },
  {
   "cell_type": "code",
   "execution_count": null,
   "metadata": {},
   "outputs": [],
   "source": []
  }
 ],
 "metadata": {
  "kernelspec": {
   "display_name": "Python 3 (ipykernel)",
   "language": "python",
   "name": "python3"
  },
  "language_info": {
   "codemirror_mode": {
    "name": "ipython",
    "version": 3
   },
   "file_extension": ".py",
   "mimetype": "text/x-python",
   "name": "python",
   "nbconvert_exporter": "python",
   "pygments_lexer": "ipython3",
   "version": "3.9.7"
  }
 },
 "nbformat": 4,
 "nbformat_minor": 2
}
