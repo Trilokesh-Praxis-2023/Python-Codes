{
 "cells": [
  {
   "cell_type": "code",
   "execution_count": 1,
   "id": "df5ebe38",
   "metadata": {},
   "outputs": [],
   "source": [
    "import turtle"
   ]
  },
  {
   "cell_type": "code",
   "execution_count": 2,
   "id": "2bbeed37",
   "metadata": {},
   "outputs": [],
   "source": [
    "def main():\n",
    "    # The main code of the program goes here\n",
    "    t = turtle.Turtle()"
   ]
  },
  {
   "cell_type": "code",
   "execution_count": 3,
   "id": "af11c559",
   "metadata": {},
   "outputs": [],
   "source": [
    "# this code calls the main function to get everything started. The condition in this\n",
    "# if statement evaluates to True when the module is executed by the interpreter, but\n",
    "# not when it is imported into another module.\n",
    "if __name__ == \"__main__\":\n",
    "    main()"
   ]
  },
  {
   "cell_type": "code",
   "execution_count": 4,
   "id": "be8d79cf",
   "metadata": {},
   "outputs": [],
   "source": [
    "# The if statement at the end of the code, it is the first code executed after \n",
    "# the import statements. The if statement’s condition evaluates \n",
    "# to True when the program is run as a stand-alone program. Sometimes we write \n",
    "# modules that we may want to import into another module. Writing this if \n",
    "# statement to call the main function makes the module execute its own main \n",
    "# function when it is run as a stand-alone program. When the module is \n",
    "# imported into another module it will not execute its main function. Later you\n",
    "# will have the opportunity to write a module to be imported into another \n",
    "# module so it is a good habit to form to always call the main function in\n",
    "# this way."
   ]
  },
  {
   "cell_type": "code",
   "execution_count": null,
   "id": "d4f2a517",
   "metadata": {},
   "outputs": [],
   "source": []
  }
 ],
 "metadata": {
  "kernelspec": {
   "display_name": "Python 3 (ipykernel)",
   "language": "python",
   "name": "python3"
  },
  "language_info": {
   "codemirror_mode": {
    "name": "ipython",
    "version": 3
   },
   "file_extension": ".py",
   "mimetype": "text/x-python",
   "name": "python",
   "nbconvert_exporter": "python",
   "pygments_lexer": "ipython3",
   "version": "3.9.7"
  }
 },
 "nbformat": 4,
 "nbformat_minor": 5
}
