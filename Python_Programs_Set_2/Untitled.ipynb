{
 "cells": [
  {
   "cell_type": "code",
   "execution_count": 1,
   "id": "e677be8f",
   "metadata": {},
   "outputs": [],
   "source": [
    "%run myprog.py"
   ]
  },
  {
   "cell_type": "code",
   "execution_count": 2,
   "id": "bc257efc",
   "metadata": {},
   "outputs": [
    {
     "name": "stdout",
     "output_type": "stream",
     "text": [
      "Alice total is  45\n"
     ]
    }
   ],
   "source": [
    "%run alice1.py"
   ]
  },
  {
   "cell_type": "code",
   "execution_count": null,
   "id": "d2fc5c31",
   "metadata": {},
   "outputs": [],
   "source": []
  }
 ],
 "metadata": {
  "kernelspec": {
   "display_name": "Python 3 (ipykernel)",
   "language": "python",
   "name": "python3"
  },
  "language_info": {
   "codemirror_mode": {
    "name": "ipython",
    "version": 3
   },
   "file_extension": ".py",
   "mimetype": "text/x-python",
   "name": "python",
   "nbconvert_exporter": "python",
   "pygments_lexer": "ipython3",
   "version": "3.9.7"
  }
 },
 "nbformat": 4,
 "nbformat_minor": 5
}
