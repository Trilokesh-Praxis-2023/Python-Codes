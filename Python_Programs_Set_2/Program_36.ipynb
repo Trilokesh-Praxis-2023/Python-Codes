{
 "cells": [
  {
   "cell_type": "code",
   "execution_count": 3,
   "metadata": {},
   "outputs": [
    {
     "name": "stdout",
     "output_type": "stream",
     "text": [
      "numGuess =  10001\n",
      "Failed on square root of 0.01\n"
     ]
    }
   ],
   "source": [
    "# Approximating the square root using exhaustive enumeration\n",
    "\n",
    "x = 0.01\n",
    "epsilon = 0.001\n",
    "step = epsilon**2\n",
    "numGuess = 0\n",
    "ans = 0.0\n",
    "while abs(ans**2 - x) >= epsilon and ans <= x:\n",
    "    ans += step\n",
    "    numGuess +=1\n",
    "print(\"numGuess = \", numGuess)\n",
    "if abs(ans**2 - x) >= epsilon:\n",
    "    print(\"Failed on square root of\", x)\n",
    "else:\n",
    "    print(ans, \" is close to square root of \", x)\n",
    "\n",
    "    "
   ]
  },
  {
   "cell_type": "code",
   "execution_count": null,
   "metadata": {},
   "outputs": [],
   "source": []
  },
  {
   "cell_type": "code",
   "execution_count": null,
   "metadata": {},
   "outputs": [],
   "source": []
  },
  {
   "cell_type": "code",
   "execution_count": null,
   "metadata": {},
   "outputs": [],
   "source": []
  }
 ],
 "metadata": {
  "kernelspec": {
   "display_name": "Python 3 (ipykernel)",
   "language": "python",
   "name": "python3"
  },
  "language_info": {
   "codemirror_mode": {
    "name": "ipython",
    "version": 3
   },
   "file_extension": ".py",
   "mimetype": "text/x-python",
   "name": "python",
   "nbconvert_exporter": "python",
   "pygments_lexer": "ipython3",
   "version": "3.9.7"
  }
 },
 "nbformat": 4,
 "nbformat_minor": 2
}
