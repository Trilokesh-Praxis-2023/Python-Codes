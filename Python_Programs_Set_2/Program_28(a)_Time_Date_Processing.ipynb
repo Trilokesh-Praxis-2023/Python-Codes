{
 "cells": [
  {
   "cell_type": "code",
   "execution_count": 1,
   "id": "49437c3b",
   "metadata": {},
   "outputs": [
    {
     "name": "stdout",
     "output_type": "stream",
     "text": [
      "2018-03-05 23:08:15\n"
     ]
    }
   ],
   "source": [
    "from datetime import datetime\n",
    "then = datetime(2018, 3, 5, 23, 8, 15)        # Random date in the past\n",
    "print(then)"
   ]
  },
  {
   "cell_type": "code",
   "execution_count": 2,
   "id": "8cb91c49",
   "metadata": {},
   "outputs": [
    {
     "name": "stdout",
     "output_type": "stream",
     "text": [
      "2018-03-05 00:00:00\n"
     ]
    }
   ],
   "source": [
    "then = datetime(2018, 3, 5)\n",
    "print(then)"
   ]
  },
  {
   "cell_type": "code",
   "execution_count": 3,
   "id": "18810584",
   "metadata": {},
   "outputs": [
    {
     "name": "stdout",
     "output_type": "stream",
     "text": [
      "2023-03-10 13:38:14.233102\n"
     ]
    }
   ],
   "source": [
    "now  = datetime.now()# Now\n",
    "print(now)"
   ]
  },
  {
   "cell_type": "code",
   "execution_count": 4,
   "id": "bf759563",
   "metadata": {},
   "outputs": [
    {
     "name": "stdout",
     "output_type": "stream",
     "text": [
      "158247494.233102\n"
     ]
    }
   ],
   "source": [
    "duration = now - then                         # For build-in functions\n",
    "duration_in_s = duration.total_seconds()      # Total number of seconds between dates\n",
    "print(duration_in_s)"
   ]
  },
  {
   "cell_type": "code",
   "execution_count": 5,
   "id": "ba6359a2",
   "metadata": {},
   "outputs": [
    {
     "name": "stdout",
     "output_type": "stream",
     "text": [
      "1831 days, 13:38:14.233102\n"
     ]
    }
   ],
   "source": [
    "duration = now - then                         # For build-in functions\n",
    "print(duration)"
   ]
  },
  {
   "cell_type": "code",
   "execution_count": 6,
   "id": "3ef80300",
   "metadata": {},
   "outputs": [
    {
     "name": "stdout",
     "output_type": "stream",
     "text": [
      "(5.0, 567494.2331019938)\n"
     ]
    }
   ],
   "source": [
    "years = divmod(duration_in_s, 31536000)    # Seconds in a year=365*24*60*60 = 31536000.\n",
    "print(years)"
   ]
  },
  {
   "cell_type": "code",
   "execution_count": 10,
   "id": "0974df8f",
   "metadata": {},
   "outputs": [
    {
     "name": "stdout",
     "output_type": "stream",
     "text": [
      "5.0\n"
     ]
    }
   ],
   "source": [
    "years = divmod(duration_in_s, 31536000)[0]    # Seconds in a year=365*24*60*60 = 31536000.\n",
    "print(years)"
   ]
  },
  {
   "cell_type": "code",
   "execution_count": 19,
   "id": "b5dc75ce",
   "metadata": {},
   "outputs": [
    {
     "ename": "AttributeError",
     "evalue": "'datetime.timedelta' object has no attribute 'years'",
     "output_type": "error",
     "traceback": [
      "\u001b[1;31m---------------------------------------------------------------------------\u001b[0m",
      "\u001b[1;31mAttributeError\u001b[0m                            Traceback (most recent call last)",
      "Cell \u001b[1;32mIn[19], line 1\u001b[0m\n\u001b[1;32m----> 1\u001b[0m years\u001b[38;5;241m=\u001b[39m\u001b[43mduration\u001b[49m\u001b[38;5;241;43m.\u001b[39;49m\u001b[43myears\u001b[49m\n",
      "\u001b[1;31mAttributeError\u001b[0m: 'datetime.timedelta' object has no attribute 'years'"
     ]
    }
   ],
   "source": [
    "years=duration.years   # does not work"
   ]
  },
  {
   "cell_type": "code",
   "execution_count": 7,
   "id": "93d12966",
   "metadata": {},
   "outputs": [
    {
     "name": "stdout",
     "output_type": "stream",
     "text": [
      "1831\n",
      "1831.0\n"
     ]
    }
   ],
   "source": [
    "days  = duration.days                         # Build-in datetime function\n",
    "print(days)\n",
    "days  = divmod(duration_in_s, 86400)[0]       # Seconds in a day = 86400\n",
    "print(days)"
   ]
  },
  {
   "cell_type": "code",
   "execution_count": 20,
   "id": "bb032837",
   "metadata": {},
   "outputs": [
    {
     "name": "stdout",
     "output_type": "stream",
     "text": [
      "43955.0\n"
     ]
    }
   ],
   "source": [
    "hours = divmod(duration_in_s, 3600)[0]        # Seconds in an hour = 3600\n",
    "print(hours)"
   ]
  },
  {
   "cell_type": "code",
   "execution_count": 8,
   "id": "f4567812",
   "metadata": {},
   "outputs": [
    {
     "name": "stdout",
     "output_type": "stream",
     "text": [
      "2637458.0\n"
     ]
    }
   ],
   "source": [
    "minutes = divmod(duration_in_s, 60)[0]        # Seconds in a minute = 60\n",
    "print(minutes)"
   ]
  },
  {
   "cell_type": "code",
   "execution_count": 20,
   "id": "f38c7293",
   "metadata": {},
   "outputs": [
    {
     "name": "stdout",
     "output_type": "stream",
     "text": [
      "141727376.828187\n"
     ]
    }
   ],
   "source": [
    "seconds = duration.seconds                    # Build-in datetime function\n",
    "seconds = duration_in_s\n",
    "print(seconds)"
   ]
  },
  {
   "cell_type": "code",
   "execution_count": 9,
   "id": "6a5e945d",
   "metadata": {},
   "outputs": [
    {
     "name": "stdout",
     "output_type": "stream",
     "text": [
      "Time between dates: 1831 days, 13 hours, 38 minutes and 14 seconds\n"
     ]
    }
   ],
   "source": [
    "days    = divmod(duration_in_s, 86400)        # Get days (without [0]!)\n",
    "hours   = divmod(days[1], 3600)               # Use remainder of days to calc hours\n",
    "minutes = divmod(hours[1], 60)                # Use remainder of hours to calc minutes\n",
    "seconds = divmod(minutes[1], 1)               # Use remainder of minutes to calc seconds\n",
    "print(\"Time between dates: %d days, %d hours, %d minutes and %d seconds\" % (days[0], hours[0], minutes[0], seconds[0]))"
   ]
  },
  {
   "cell_type": "code",
   "execution_count": null,
   "id": "b9ca205a",
   "metadata": {},
   "outputs": [],
   "source": []
  }
 ],
 "metadata": {
  "kernelspec": {
   "display_name": "Python 3 (ipykernel)",
   "language": "python",
   "name": "python3"
  },
  "language_info": {
   "codemirror_mode": {
    "name": "ipython",
    "version": 3
   },
   "file_extension": ".py",
   "mimetype": "text/x-python",
   "name": "python",
   "nbconvert_exporter": "python",
   "pygments_lexer": "ipython3",
   "version": "3.9.13"
  }
 },
 "nbformat": 4,
 "nbformat_minor": 5
}
