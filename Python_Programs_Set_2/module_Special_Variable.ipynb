{
 "cells": [
  {
   "cell_type": "markdown",
   "id": "dd009ce6",
   "metadata": {},
   "source": [
    "Before executing code, Python interpreter reads source file and define few special variables/global variables. \n",
    "If the python interpreter is running that module (the source file) as the main program, it sets the special __name__ variable to have a value “__main__”. If this file is being imported from another module, __name__ will be set to the module’s name. Module’s name is available as value to __name__ global variable. \n",
    "\n",
    "A module is a file containing Python definitions and statements. The file name is the module name with the suffix .py appended. "
   ]
  },
  {
   "cell_type": "code",
   "execution_count": 2,
   "id": "4d9626b0",
   "metadata": {},
   "outputs": [
    {
     "name": "stdout",
     "output_type": "stream",
     "text": [
      "Always executed\n",
      "Executed when invoked directly\n"
     ]
    }
   ],
   "source": [
    "# Python program to execute\n",
    "# main directly\n",
    "print (\"Always executed\")\n",
    " \n",
    "if __name__ == \"__main__\":\n",
    "    print (\"Executed when invoked directly\")\n",
    "else:\n",
    "    print (\"Executed when imported\")"
   ]
  },
  {
   "cell_type": "markdown",
   "id": "b3eaa72b",
   "metadata": {},
   "source": [
    "Here, as we executed script.py directly __name__ variable will be __main__. So, code. \n",
    "Thus, you can test whether your script is being run directly or being imported by something else by testing __name__ variable.\n",
    "If script is getting imported by some other module at that time __name__ will be module name."
   ]
  },
  {
   "cell_type": "code",
   "execution_count": 1,
   "id": "3a3e08be",
   "metadata": {},
   "outputs": [
    {
     "name": "stdout",
     "output_type": "stream",
     "text": [
      "I am inside function\n"
     ]
    }
   ],
   "source": [
    "# Python program to execute\n",
    "# function directly\n",
    "def my_function():\n",
    "    print (\"I am inside function\")\n",
    " \n",
    "# We can test function by calling it.\n",
    "my_function()"
   ]
  },
  {
   "cell_type": "code",
   "execution_count": 4,
   "id": "af3cfe2a",
   "metadata": {},
   "outputs": [
    {
     "name": "stdout",
     "output_type": "stream",
     "text": [
      "I am inside function\n",
      "I am inside function\n"
     ]
    }
   ],
   "source": [
    "# Python program to use\n",
    "# main for function call.\n",
    "if __name__ == \"__main__\":\n",
    "    my_function()\n",
    " \n",
    "import myscript\n",
    " \n",
    "myscript.my_function()"
   ]
  },
  {
   "cell_type": "code",
   "execution_count": 5,
   "id": "0a6cafca",
   "metadata": {},
   "outputs": [
    {
     "name": "stdout",
     "output_type": "stream",
     "text": [
      "I am inside function\n"
     ]
    }
   ],
   "source": [
    "import myscript\n",
    " \n",
    "myscript.my_function()"
   ]
  },
  {
   "cell_type": "markdown",
   "id": "c4a28bdc",
   "metadata": {},
   "source": [
    "Every Python module has it’s __name__ defined and if this is ‘__main__’, it implies that the module is being run standalone by the user and we can do corresponding appropriate actions.\n",
    "If we import this script as a module in another script, the __name__ is set to the name of the script/module.\n",
    "Python files can act as either reusable modules, or as standalone programs.\n",
    "if __name__ == “main”: is used to execute some code only if the file was run directly, and not imported."
   ]
  },
  {
   "cell_type": "code",
   "execution_count": null,
   "id": "e7032e84",
   "metadata": {},
   "outputs": [],
   "source": []
  }
 ],
 "metadata": {
  "kernelspec": {
   "display_name": "Python 3 (ipykernel)",
   "language": "python",
   "name": "python3"
  },
  "language_info": {
   "codemirror_mode": {
    "name": "ipython",
    "version": 3
   },
   "file_extension": ".py",
   "mimetype": "text/x-python",
   "name": "python",
   "nbconvert_exporter": "python",
   "pygments_lexer": "ipython3",
   "version": "3.9.7"
  }
 },
 "nbformat": 4,
 "nbformat_minor": 5
}
