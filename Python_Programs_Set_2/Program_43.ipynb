{
 "cells": [
  {
   "cell_type": "code",
   "execution_count": 4,
   "metadata": {},
   "outputs": [],
   "source": [
    "# Illustration of Inheritance in Object-Oriented Programming\n",
    "\n",
    "# Let’s create a Fish super class that we will later use to construct types \n",
    "# of fish as its subclasses. \n",
    "# Each of these fish will have first names and last names in addition to \n",
    "# characteristics.\n",
    "# We’ll start with the __init__() constructor method, which we’ll populate \n",
    "# with the first_name and last_name class variables for each Fish object or \n",
    "# objects of subclass.\n",
    "# We have initialized our last_name variable with the string \"Fish\" because \n",
    "# we know that most fish will have this as their last name.\n",
    "# We have added the methods swim() and swim_backwards() to the Fish class, \n",
    "# so that objects of every subclass will also be able to make use of these \n",
    "# methods.\n",
    "# Since most of the fish we’ll be creating are considered to be bony fish \n",
    "# (as in they have a skeleton made out of bone) rather than cartilagious fish \n",
    "# (as they have a skeleton made out of cartilage), we can add a few more \n",
    "# attributes to the __init__() method:\n",
    "\n",
    "class Fish:\n",
    "    def __init__(self, first_name, last_name=\"Fish\",\n",
    "                 skeleton=\"Bone\", eyelids=False):\n",
    "        self.first_name = first_name\n",
    "        self.last_name = last_name\n",
    "        self.skeleton = skeleton\n",
    "        self.eyelids = eyelids\n",
    "\n",
    "    def swim(self):\n",
    "        print(\"The fish can swim forward.\")\n",
    "\n",
    "    def swim_backwards(self):\n",
    "        print(\"The fish can swim backwards.\")"
   ]
  },
  {
   "cell_type": "code",
   "execution_count": 5,
   "metadata": {},
   "outputs": [
    {
     "name": "stdout",
     "output_type": "stream",
     "text": [
      "Terry Fish\n",
      "Bone\n",
      "False\n",
      "The fish can swim forward.\n",
      "The fish can swim backwards.\n"
     ]
    },
    {
     "ename": "AttributeError",
     "evalue": "'Trout' object has no attribute 'live_with_anemone'",
     "output_type": "error",
     "traceback": [
      "\u001b[1;31m---------------------------------------------------------------------------\u001b[0m",
      "\u001b[1;31mAttributeError\u001b[0m                            Traceback (most recent call last)",
      "\u001b[1;32m~\\AppData\\Local\\Temp\\ipykernel_15420\\821987643.py\u001b[0m in \u001b[0;36m<module>\u001b[1;34m\u001b[0m\n\u001b[0;32m     22\u001b[0m \u001b[0mterry\u001b[0m\u001b[1;33m.\u001b[0m\u001b[0mswim\u001b[0m\u001b[1;33m(\u001b[0m\u001b[1;33m)\u001b[0m\u001b[1;33m\u001b[0m\u001b[1;33m\u001b[0m\u001b[0m\n\u001b[0;32m     23\u001b[0m \u001b[0mterry\u001b[0m\u001b[1;33m.\u001b[0m\u001b[0mswim_backwards\u001b[0m\u001b[1;33m(\u001b[0m\u001b[1;33m)\u001b[0m\u001b[1;33m\u001b[0m\u001b[1;33m\u001b[0m\u001b[0m\n\u001b[1;32m---> 24\u001b[1;33m \u001b[0mterry\u001b[0m\u001b[1;33m.\u001b[0m\u001b[0mlive_with_anemone\u001b[0m\u001b[1;33m(\u001b[0m\u001b[1;33m)\u001b[0m\u001b[1;33m\u001b[0m\u001b[1;33m\u001b[0m\u001b[0m\n\u001b[0m",
      "\u001b[1;31mAttributeError\u001b[0m: 'Trout' object has no attribute 'live_with_anemone'"
     ]
    }
   ],
   "source": [
    "# Sub Classes\n",
    "# Subclasses or Child classes are classes that inherit from the super class. \n",
    "# This means that each subclass will be able to make use of the methods \n",
    "# and variables of the super class.\n",
    "# For example, a Trout subclass of the Fish class will be \n",
    "# able to make use of the swim() method declared in Fish without needing to \n",
    "# define it.\n",
    "# The first line of a subclass looks a little different from the super class \n",
    "# as we must pass the super class into the subclass as a parameter.\n",
    "# With subclasses, we can choose to add more methods, override existing super \n",
    "# class methods,or simply accept the default super class methods with the \n",
    "# pass keyword, which we have done for the Trout \n",
    "# class which is a subclass of the super class Fish.\n",
    "\n",
    "class Trout(Fish):\n",
    "    pass\n",
    "\n",
    "terry = Trout(\"Terry\")\n",
    "print(terry.first_name + \" \" + terry.last_name)\n",
    "print(terry.skeleton)\n",
    "print(terry.eyelids)\n",
    "terry.swim()\n",
    "terry.swim_backwards()\n",
    "# terry.live_with_anemone()"
   ]
  },
  {
   "cell_type": "code",
   "execution_count": 6,
   "metadata": {},
   "outputs": [
    {
     "name": "stdout",
     "output_type": "stream",
     "text": [
      "Casey Fish\n",
      "Bone\n",
      "False\n",
      "The fish can swim forward.\n",
      "The fish can swim backwards.\n",
      "The clownfish coexists with sea anemone.\n"
     ]
    }
   ],
   "source": [
    "# Next, let’s create another sub class that implements its own method. We call \n",
    "# this class Clownfish. \n",
    "# Its special method permits it to live with sea anemone.\n",
    "\n",
    "class Clownfish(Fish):\n",
    "\n",
    "    def live_with_anemone(self):\n",
    "        print(\"The clownfish coexists with sea anemone.\")\n",
    "        \n",
    "# Next, let’s create a Clownfish object to see how this works.\n",
    "# The output shows that the Clownfish object casey is able to use the \n",
    "# Fish methods __init__() and swim() as well as its subclass \n",
    "# method live_with_anemone().\n",
    "\n",
    "casey = Clownfish(\"Casey\")\n",
    "print(casey.first_name + \" \" + casey.last_name)\n",
    "print(casey.skeleton)\n",
    "print(casey.eyelids)\n",
    "casey.swim()\n",
    "casey.swim_backwards()\n",
    "casey.live_with_anemone()"
   ]
  },
  {
   "cell_type": "code",
   "execution_count": 4,
   "metadata": {},
   "outputs": [
    {
     "ename": "AttributeError",
     "evalue": "'Trout' object has no attribute 'live_with_anemone'",
     "output_type": "error",
     "traceback": [
      "\u001b[1;31m---------------------------------------------------------------------------\u001b[0m",
      "\u001b[1;31mAttributeError\u001b[0m                            Traceback (most recent call last)",
      "\u001b[1;32m~\\AppData\\Local\\Temp\\ipykernel_18676\\609189579.py\u001b[0m in \u001b[0;36m<module>\u001b[1;34m\u001b[0m\n\u001b[0;32m      4\u001b[0m \u001b[1;31m# Clownfish sub class and not the Fish super class\u001b[0m\u001b[1;33m\u001b[0m\u001b[1;33m\u001b[0m\u001b[0m\n\u001b[0;32m      5\u001b[0m \u001b[1;33m\u001b[0m\u001b[0m\n\u001b[1;32m----> 6\u001b[1;33m \u001b[0mterry\u001b[0m\u001b[1;33m.\u001b[0m\u001b[0mlive_with_anemone\u001b[0m\u001b[1;33m(\u001b[0m\u001b[1;33m)\u001b[0m\u001b[1;33m\u001b[0m\u001b[1;33m\u001b[0m\u001b[0m\n\u001b[0m",
      "\u001b[1;31mAttributeError\u001b[0m: 'Trout' object has no attribute 'live_with_anemone'"
     ]
    }
   ],
   "source": [
    "# If we try to use the live_with_anemone() method in a Trout object, \n",
    "# an error will be flashed. \n",
    "# This is because the method live_with_anemone() belongs only to the \n",
    "# Clownfish sub class and not the Fish super class\n",
    "\n",
    "terry.live_with_anemone()\n"
   ]
  },
  {
   "cell_type": "code",
   "execution_count": 7,
   "metadata": {},
   "outputs": [
    {
     "name": "stdout",
     "output_type": "stream",
     "text": [
      "Sammy Shark\n",
      "The fish can swim forward.\n",
      "The shark cannot swim backwards, but can sink backwards.\n",
      "True\n",
      "cartilage\n"
     ]
    }
   ],
   "source": [
    "# Overriding Super Class Methods\n",
    "# So far, we have looked at the sub class Trout that made use of the pass \n",
    "# keyword to inherit all of the Super class Fish properties, and another \n",
    "# sub class Clownfish that inherited all of the Super class properties and also created its own unique method \n",
    "# that is specific to the sub class.\n",
    "# Sometimes, however, we may want to make use of some of the super class \n",
    "# properties but not all of them. When we change Super class methods \n",
    "# we override them.\n",
    "# We create a Shark sub class of the Fish Super class. Because we created the \n",
    "# Fish class with the idea that we would be creating primarily bony fish, \n",
    "# we’ll have to make adjustments for the Shark class that is a cartilaginous \n",
    "# fish.Sharks, unlike bony fish, have skeletons made of cartilage instead of \n",
    "# bone. They also have eyelids and are unable to swim backwards. \n",
    "# Sharks can, however, maneuver themselves backwards by sinking.\n",
    "# In light of this, we override the __init__() constructor method and the \n",
    "# swim_backwards() method. We don’t need to modify the swim() method \n",
    "# since sharks are fish that can swim. \n",
    "# Let’s take a look at this sub class:\n",
    "# We have overridden the initialized parameters in the __init__() method, \n",
    "# so that the last_name variable is now set equal to the string \"Shark\", \n",
    "# the skeleton variable is now set equal to the string \"cartilage\", and \n",
    "# the eyelids variable is now set to the Boolean value True.\n",
    "# The method swim_backwards() now prints a different string than the one \n",
    "# in the Fish Super class because sharks are not able to swim backwards \n",
    "# in the way that bony fish can.\n",
    "\n",
    "class Shark(Fish):\n",
    "    def __init__(self, first_name, last_name=\"Shark\",\n",
    "                 skeleton=\"cartilage\", eyelids=True):\n",
    "        self.first_name = first_name\n",
    "        self.last_name = last_name\n",
    "        self.skeleton = skeleton\n",
    "        self.eyelids = eyelids\n",
    "\n",
    "    def swim_backwards(self):\n",
    "        print(\"The shark cannot swim backwards, but can sink backwards.\")\n",
    "\n",
    "# We now create an instance of the Shark sub class, which can still \n",
    "# make use of the swim() method of the Fish super class.\n",
    "sammy = Shark(\"Sammy\")\n",
    "print(sammy.first_name + \" \" + sammy.last_name)\n",
    "sammy.swim()\n",
    "sammy.swim_backwards()\n",
    "print(sammy.eyelids)\n",
    "print(sammy.skeleton)"
   ]
  },
  {
   "cell_type": "code",
   "execution_count": 6,
   "metadata": {},
   "outputs": [],
   "source": [
    "# The Shark subclass successfully overrode the __init__() and swim_backwards() \n",
    "# methods of the Fish superclass, while also inheriting the swim() method of \n",
    "# the super class."
   ]
  },
  {
   "cell_type": "code",
   "execution_count": 8,
   "metadata": {},
   "outputs": [
    {
     "name": "stdout",
     "output_type": "stream",
     "text": [
      "Terry Fish\n",
      "False\n",
      "freshwater\n",
      "The fish can swim forward.\n"
     ]
    }
   ],
   "source": [
    "# The super() Function \n",
    "# With the super() function, you can gain access to inherited methods that have \n",
    "# been overridden in a class object.\n",
    "# When we use the super() function, we are calling a Super method into a sub \n",
    "# method to make use of it. For example, we may want to override one aspect of \n",
    "# the super method with certain functionality, but then call the rest of the \n",
    "# original Super method to finish the method.\n",
    "# The super() function is most commonly used within the __init__() method \n",
    "# because that is where you will most likely need to add some uniqueness to the\n",
    "# sub class and then complete initialization from the Super.\n",
    "# Since trout are typically freshwater fish, let’s add a water variable \n",
    "# to the __init__() method and set it equal to the string \"freshwater\", \n",
    "# and then maintain the rest of the Super class’s variables and parameters:\n",
    "\n",
    "class Trout(Fish):\n",
    "    def __init__(self, water = \"freshwater\"):\n",
    "        self.water = water\n",
    "        super().__init__(self)\n",
    "terry = Trout()\n",
    "\n",
    "# Because we have overridden the method, we no longer need to pass first_name \n",
    "# in as a parameter to Trout.\n",
    "# We will therefore initialize the first_name by calling the variable in our \n",
    "# object instance.\n",
    "terry.first_name = \"Terry\"\n",
    "\n",
    "# We use super class __init__() through super()\n",
    "print(terry.first_name + \" \" + terry.last_name)\n",
    "print(terry.eyelids)\n",
    "\n",
    "# Use sub __init__() override\n",
    "print(terry.water)\n",
    "\n",
    "# Use super class swim() method\n",
    "terry.swim()"
   ]
  },
  {
   "cell_type": "code",
   "execution_count": 8,
   "metadata": {},
   "outputs": [],
   "source": [
    "# The output shows that the object terry of the Trout sub class is able to make \n",
    "# use of both the subclass-specific __init__() variable water while also being \n",
    "# able to call the Fish super class __init__() variables of first_name, \n",
    "# last_name, and eyelids."
   ]
  },
  {
   "cell_type": "code",
   "execution_count": 9,
   "metadata": {},
   "outputs": [],
   "source": [
    "# Multiple Inheritance\n",
    "# Multiple inheritance is when a class can inherit attributes and methods \n",
    "# from more than one super class.\n",
    "# To show how multiple inheritance works, let’s create a CoralReef sub class \n",
    "# that inherits from a Coral class and a Anemone class. \n",
    "# We can create a method in each and then use the pass keyword in the \n",
    "# CoralReef sub class.\n",
    "# The Coral class has a method called community() that prints one line, and the \n",
    "# Anemone class has a method called protect_clownfish() that prints another \n",
    "# line. \n",
    "# Then we call both classes into the inheritance tuple. This means that \n",
    "# Coral is inheriting from two super classes.\n",
    "class Coral:\n",
    "\n",
    "    def community(self):\n",
    "        print(\"Coral lives in a community.\")\n",
    "\n",
    "\n",
    "class Anemone:\n",
    "\n",
    "    def protect_clownfish(self):\n",
    "        print(\"The anemone is protecting the clownfish.\")\n",
    "\n",
    "\n",
    "class CoralReef(Coral, Anemone):\n",
    "    pass"
   ]
  },
  {
   "cell_type": "code",
   "execution_count": 10,
   "metadata": {},
   "outputs": [
    {
     "name": "stdout",
     "output_type": "stream",
     "text": [
      "Coral lives in a community.\n",
      "The anemone is protecting the clownfish.\n"
     ]
    }
   ],
   "source": [
    "# The object great_barrier is set as a CoralReef object, \n",
    "# and it can use the methods in both super classes.\n",
    "great_barrier = CoralReef()\n",
    "great_barrier.community()\n",
    "great_barrier.protect_clownfish()"
   ]
  },
  {
   "cell_type": "code",
   "execution_count": 20,
   "metadata": {
    "collapsed": true
   },
   "outputs": [],
   "source": [
    "# The output shows that methods from both super classes were effectively \n",
    "# used in the sub class."
   ]
  },
  {
   "cell_type": "code",
   "execution_count": null,
   "metadata": {
    "collapsed": true
   },
   "outputs": [],
   "source": []
  }
 ],
 "metadata": {
  "kernelspec": {
   "display_name": "Python 3 (ipykernel)",
   "language": "python",
   "name": "python3"
  },
  "language_info": {
   "codemirror_mode": {
    "name": "ipython",
    "version": 3
   },
   "file_extension": ".py",
   "mimetype": "text/x-python",
   "name": "python",
   "nbconvert_exporter": "python",
   "pygments_lexer": "ipython3",
   "version": "3.9.7"
  }
 },
 "nbformat": 4,
 "nbformat_minor": 2
}
