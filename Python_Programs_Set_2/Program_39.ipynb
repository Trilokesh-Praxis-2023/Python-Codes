{
 "cells": [
  {
   "cell_type": "code",
   "execution_count": 1,
   "metadata": {},
   "outputs": [
    {
     "name": "stdout",
     "output_type": "stream",
     "text": [
      "L1 = [2, 3, 4]\n"
     ]
    }
   ],
   "source": [
    "# Cloning\n",
    "# It is usually prudent to avoid mutating a list over which one is iterating.\n",
    "# During a for loop, the implementation of Python keeps track of where it \n",
    "# is in the list using an internal counter that is incremented at the end \n",
    "# of each iteration.When the value of the counter reaches the current length \n",
    "# of the list, the loop terminates. This works as one might expect if the list \n",
    "# is not mutated within the loop, but can have surprising consequences if the \n",
    "# list is mutated. \n",
    "# In this case, the hidden counter starts out at 0, discovers that L1[0] is \n",
    "# in L2[0],and removes it - reducing the length of L1 to 3. \n",
    "# The counter is then incremented to 1, and the code proceeds to check whether \n",
    "# the value of L1[1] is in L2. Notice that this is not the original value \n",
    "# of l1[1] (i.e., 2) but rather the current value of l1[1] (i.e., 3).\n",
    "# As you can see, it is possible to figure out what happens when the list is \n",
    "# modified within the loop. However, that is not easy. \n",
    "\n",
    "def removeDups(L1, L2):\n",
    "    \"\"\"Assumes that L1 and L2 are lists.\n",
    "       Removes any element from L1 that also occurs in L2\"\"\"\n",
    "    for e1 in L1:\n",
    "        if e1 in L2:\n",
    "            L1.remove(e1)\n",
    "L1 = [1,2,3,4]\n",
    "L2 = [1,2,5,6]\n",
    "removeDups(L1, L2)\n",
    "print('L1 =', L1)"
   ]
  },
  {
   "cell_type": "code",
   "execution_count": null,
   "metadata": {},
   "outputs": [],
   "source": []
  },
  {
   "cell_type": "code",
   "execution_count": null,
   "metadata": {},
   "outputs": [],
   "source": []
  },
  {
   "cell_type": "code",
   "execution_count": null,
   "metadata": {},
   "outputs": [],
   "source": []
  }
 ],
 "metadata": {
  "kernelspec": {
   "display_name": "Python 3 (ipykernel)",
   "language": "python",
   "name": "python3"
  },
  "language_info": {
   "codemirror_mode": {
    "name": "ipython",
    "version": 3
   },
   "file_extension": ".py",
   "mimetype": "text/x-python",
   "name": "python",
   "nbconvert_exporter": "python",
   "pygments_lexer": "ipython3",
   "version": "3.9.7"
  }
 },
 "nbformat": 4,
 "nbformat_minor": 2
}
