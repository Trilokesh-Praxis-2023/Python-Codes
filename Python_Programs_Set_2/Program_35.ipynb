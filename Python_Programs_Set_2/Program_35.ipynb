{
 "cells": [
  {
   "cell_type": "code",
   "execution_count": 1,
   "metadata": {},
   "outputs": [
    {
     "name": "stdout",
     "output_type": "stream",
     "text": [
      "Enter an integer: -27\n",
      "Cube root of -27 is -3\n"
     ]
    }
   ],
   "source": [
    "# Find the cube root of a perfect cube\n",
    "# Using for loop\n",
    "\n",
    "x = x = int((input('Enter an integer: ')))\n",
    "for ans in range(0, abs(x) + 1):\n",
    "    if (ans**3 >= abs(x)):\n",
    "        break\n",
    "if (ans**3 != abs(x)):\n",
    "    print(\"x, is not a perfect cube\")\n",
    "else:\n",
    "    if(x < 0):\n",
    "        ans = -ans\n",
    "    print(\"Cube root of\", x, \"is\", ans)"
   ]
  },
  {
   "cell_type": "markdown",
   "metadata": {},
   "source": [
    " "
   ]
  },
  {
   "cell_type": "code",
   "execution_count": null,
   "metadata": {
    "collapsed": true
   },
   "outputs": [],
   "source": []
  }
 ],
 "metadata": {
  "kernelspec": {
   "display_name": "Python 3 (ipykernel)",
   "language": "python",
   "name": "python3"
  },
  "language_info": {
   "codemirror_mode": {
    "name": "ipython",
    "version": 3
   },
   "file_extension": ".py",
   "mimetype": "text/x-python",
   "name": "python",
   "nbconvert_exporter": "python",
   "pygments_lexer": "ipython3",
   "version": "3.9.13"
  }
 },
 "nbformat": 4,
 "nbformat_minor": 2
}
