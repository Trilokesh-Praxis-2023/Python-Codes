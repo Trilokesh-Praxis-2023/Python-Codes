{
 "cells": [
  {
   "cell_type": "code",
   "execution_count": 2,
   "metadata": {},
   "outputs": [
    {
     "name": "stdout",
     "output_type": "stream",
     "text": [
      "9\n",
      "\n",
      "\n"
     ]
    }
   ],
   "source": [
    "# Arithmetic Operators\n",
    "\n",
    "x = 4\n",
    "y = 5\n",
    "print(x + y)\n",
    "print('\\n')"
   ]
  },
  {
   "cell_type": "code",
   "execution_count": 3,
   "metadata": {},
   "outputs": [
    {
     "name": "stdout",
     "output_type": "stream",
     "text": [
      "x > y  is False\n",
      "\n",
      "\n"
     ]
    }
   ],
   "source": [
    "# Comparison Operators\n",
    "x = 4\n",
    "y = 5\n",
    "print('x > y  is',x>y)\n",
    "print('\\n')\n"
   ]
  },
  {
   "cell_type": "code",
   "execution_count": 4,
   "metadata": {},
   "outputs": [
    {
     "name": "stdout",
     "output_type": "stream",
     "text": [
      "Line 1 - Value of num1 :  4\n",
      "Line 2 - Value of num2 :  5\n",
      "\n",
      "\n"
     ]
    }
   ],
   "source": [
    "# Assignment Operators\n",
    "num1 = 4\n",
    "num2 = 5\n",
    "print (\"Line 1 - Value of num1 : \", num1)\n",
    "print (\"Line 2 - Value of num2 : \", num2)\n",
    "print('\\n')"
   ]
  },
  {
   "cell_type": "code",
   "execution_count": 9,
   "metadata": {},
   "outputs": [
    {
     "name": "stdout",
     "output_type": "stream",
     "text": [
      "Line 1 - Result of + is  13\n",
      "\n",
      "\n"
     ]
    }
   ],
   "source": [
    "# Compound assignment operator\n",
    "num1 = 4\n",
    "num2 = 5\n",
    "res = num1 + num2\n",
    "res = num1 + res\n",
    "print (\"Line 1 - Result of + is \", res)\n",
    "print('\\n')\n"
   ]
  },
  {
   "cell_type": "code",
   "execution_count": 10,
   "metadata": {},
   "outputs": [
    {
     "name": "stdout",
     "output_type": "stream",
     "text": [
      "a and b is False\n",
      "a or b is True\n",
      "not a is False\n",
      "\n",
      "\n"
     ]
    }
   ],
   "source": [
    "# Logical Operators\n",
    "a = True\n",
    "b = False\n",
    "print('a and b is',a and b)\n",
    "print('a or b is',a or b)\n",
    "print('not a is',not a)\n",
    "print('\\n')"
   ]
  },
  {
   "cell_type": "code",
   "execution_count": 11,
   "metadata": {},
   "outputs": [
    {
     "name": "stdout",
     "output_type": "stream",
     "text": [
      "Line 1 - x is available in the given list\n",
      "Line 2 - y is not available in the given list\n",
      "\n",
      "\n"
     ]
    }
   ],
   "source": [
    "# Membership Operators\n",
    "x = 4\n",
    "y = 8\n",
    "list = [1, 2, 3, 4, 5 ];\n",
    "if (x in list):\n",
    "   print(\"Line 1 - x is available in the given list\")\n",
    "else:\n",
    "   print(\"Line 1 - x is not available in the given list\")\n",
    "if (y not in list):\n",
    "   print(\"Line 2 - y is not available in the given list\")\n",
    "else:\n",
    "   print(\"Line 2 - y is available in the given list\")\n",
    "print('\\n')"
   ]
  },
  {
   "cell_type": "code",
   "execution_count": 12,
   "metadata": {},
   "outputs": [
    {
     "name": "stdout",
     "output_type": "stream",
     "text": [
      "x & y  SAME identity\n",
      "x & y have DIFFERENT identity\n",
      "\n",
      "\n"
     ]
    }
   ],
   "source": [
    "# Identity Operators\n",
    "x = 20\n",
    "y = 20\n",
    "if (x is y):\n",
    "\tprint(\"x & y  SAME identity\")\n",
    "y=30\n",
    "if (x is not y):\n",
    "\tprint(\"x & y have DIFFERENT identity\")\n",
    "print('\\n')"
   ]
  },
  {
   "cell_type": "code",
   "execution_count": 13,
   "metadata": {},
   "outputs": [
    {
     "name": "stdout",
     "output_type": "stream",
     "text": [
      "Value of (v+w) * x/ y is  36.0\n",
      "\n",
      "\n"
     ]
    }
   ],
   "source": [
    "#Operator precedence\n",
    "v = 4\n",
    "w = 5\n",
    "x = 8\n",
    "y = 2\n",
    "z = 0\n",
    "z = (v+w) * x / y;\n",
    "print(\"Value of (v+w) * x/ y is \",  z)\n",
    "print('\\n')"
   ]
  },
  {
   "cell_type": "code",
   "execution_count": null,
   "metadata": {},
   "outputs": [],
   "source": []
  }
 ],
 "metadata": {
  "kernelspec": {
   "display_name": "Python 3",
   "language": "python",
   "name": "python3"
  },
  "language_info": {
   "codemirror_mode": {
    "name": "ipython",
    "version": 3
   },
   "file_extension": ".py",
   "mimetype": "text/x-python",
   "name": "python",
   "nbconvert_exporter": "python",
   "pygments_lexer": "ipython3",
   "version": "3.7.1"
  }
 },
 "nbformat": 4,
 "nbformat_minor": 2
}
