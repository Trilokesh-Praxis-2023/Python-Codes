{
 "cells": [
  {
   "cell_type": "code",
   "execution_count": 1,
   "metadata": {},
   "outputs": [
    {
     "name": "stdout",
     "output_type": "stream",
     "text": [
      "Robert\n",
      "(2, 3, 4)\n",
      "\n",
      "\n"
     ]
    }
   ],
   "source": [
    "# Python TUPLE - Pack, Unpack, Compare, Slicing, Delete, Key\n",
    "\n",
    "\"\"\" A tuple is just like a list of a sequence of immutable python objects.\n",
    "The difference between list and tuple is that list are declared in square brackets\n",
    "and can be changed while tuple is declared in parentheses and cannot be changed.\n",
    "However, you can take portions of existing tuples to make new tuples.\"\"\"\n",
    "\n",
    "\"\"\"AVCCCCCCC \"\"\"\n",
    "\n",
    "\"\"\" To write an empty tuple, we need to write as two parenthese containing nothing.\n",
    "tup1 =();\n",
    "\n",
    "For writing tuple for a single value, you need to include a comma, even though there\n",
    "is a single value. Also at the end you need to write semicolon as shown below.\n",
    "tup1 = (50,);\n",
    "\n",
    "Tuple indices begin at 0, and they can be concatenated, sliced and so on.\n",
    "\n",
    "In this tutorial, we will learn:\n",
    "\tPacking and Unpacking\n",
    "\tComparing tuples\n",
    "\tUsing tuples as keys in dictionaries\n",
    "\tDeleting tuples\n",
    "\tSlicing of tuple\n",
    "\tBuilt-in functions with tuples\n",
    "\tAdvantages of tuples over lists\"\"\"\n",
    "\n",
    "tup1 = ('Robert', 'Carlos','1965','Terminator 1995', 'Actor','Florida')\n",
    "tup2 = (1,2,3,4,5,6,7)\n",
    "print(tup1[0])\n",
    "print(tup2[1:4]) # calling the elements between 1 and 4 including the one at 1\n",
    "print('\\n')"
   ]
  },
  {
   "cell_type": "code",
   "execution_count": 1,
   "metadata": {},
   "outputs": [],
   "source": [
    "tup1 = ('Robert', 'Carlos','1965','Terminator 1995', 'Actor','Florida')\n",
    "tup2 = (1,2,3,4,5,6,7)"
   ]
  },
  {
   "cell_type": "code",
   "execution_count": 4,
   "metadata": {},
   "outputs": [],
   "source": [
    "tup1 = ('Robert', 'Carlos','1965','Terminator 1995', 'Actor','Florida', 1, 2, 3)"
   ]
  },
  {
   "cell_type": "code",
   "execution_count": 5,
   "metadata": {},
   "outputs": [
    {
     "data": {
      "text/plain": [
       "1"
      ]
     },
     "execution_count": 5,
     "metadata": {},
     "output_type": "execute_result"
    }
   ],
   "source": [
    "tup1[6]"
   ]
  },
  {
   "cell_type": "code",
   "execution_count": 3,
   "metadata": {},
   "outputs": [
    {
     "name": "stdout",
     "output_type": "stream",
     "text": [
      "Robert\n",
      "(2, 3, 4)\n"
     ]
    }
   ],
   "source": [
    "print(tup1[0])\n",
    "print(tup2[1:4])"
   ]
  },
  {
   "cell_type": "code",
   "execution_count": 4,
   "metadata": {},
   "outputs": [
    {
     "name": "stdout",
     "output_type": "stream",
     "text": [
      "Robert\n",
      "r\n"
     ]
    }
   ],
   "source": [
    "y = tup1[0]\n",
    "print(y)\n",
    "w=y[4]\n",
    "print(w)"
   ]
  },
  {
   "cell_type": "code",
   "execution_count": 6,
   "metadata": {},
   "outputs": [
    {
     "name": "stdout",
     "output_type": "stream",
     "text": [
      "Hello\n",
      "20\n",
      "Education\n",
      "\n",
      "\n"
     ]
    }
   ],
   "source": [
    "# Packing and Unpacking\n",
    "# In packing, we place value into a new tuple while in unpacking, we extract the value\n",
    "x = (\"Hello\", 20, \"Education\")    # tuple packing\n",
    "(company, emp, profile) = x    # tuple unpacking\n",
    "print(company)\n",
    "print(emp)\n",
    "print(profile)\n",
    "print('\\n')"
   ]
  },
  {
   "cell_type": "code",
   "execution_count": 7,
   "metadata": {},
   "outputs": [
    {
     "name": "stdout",
     "output_type": "stream",
     "text": [
      "a is bigger\n",
      "\n",
      "\n"
     ]
    }
   ],
   "source": [
    "# Comparing tuples\n",
    "# A comparison operator in Python works with tuples.\n",
    "# The comparison starts with the first elements of each tuple. \n",
    "\n",
    "# case 1\n",
    "a=(5,6)\n",
    "b=(1,4)\n",
    "if (a>b):print(\"a is bigger\")\n",
    "else: print(\"b is bigger\")\n",
    "print('\\n')"
   ]
  },
  {
   "cell_type": "code",
   "execution_count": 8,
   "metadata": {},
   "outputs": [
    {
     "name": "stdout",
     "output_type": "stream",
     "text": [
      "a is bigger\n",
      "\n",
      "\n"
     ]
    }
   ],
   "source": [
    "# case 2\n",
    "a=(5,6)\n",
    "b=(5,4)\n",
    "if (a>b):print(\"a is bigger\")\n",
    "else: print(\"b is bigger\")\n",
    "print('\\n')"
   ]
  },
  {
   "cell_type": "code",
   "execution_count": 9,
   "metadata": {},
   "outputs": [
    {
     "name": "stdout",
     "output_type": "stream",
     "text": [
      "b is bigger\n",
      "\n",
      "\n"
     ]
    }
   ],
   "source": [
    "# case 3\n",
    "a=(5,6)\n",
    "b=(6,4)\n",
    "if (a>b):print(\"a is bigger\")\n",
    "else: print(\"b is bigger\")\n",
    "print('\\n')"
   ]
  },
  {
   "cell_type": "code",
   "execution_count": 6,
   "metadata": {},
   "outputs": [
    {
     "name": "stdout",
     "output_type": "stream",
     "text": [
      "dict_items([('x', 100), ('y', 200)])\n",
      "\n",
      "\n"
     ]
    }
   ],
   "source": [
    "# Tuples and dictionary\n",
    "\"\"\" Since tuples are hashable, and list is not, we must use the tuple as the\n",
    "key if we need to create a composite key to use in a dictionary.\n",
    "Tuples are immutable and cannot be deleted, but deleting tuple entirely is possible\n",
    "by using the keyword \"del\". \"\"\"\n",
    "a = {'x':100, 'y':200}\n",
    "b = a.items()\n",
    "print(b)\n",
    "print('\\n')"
   ]
  },
  {
   "cell_type": "code",
   "execution_count": 7,
   "metadata": {},
   "outputs": [
    {
     "name": "stdout",
     "output_type": "stream",
     "text": [
      "('c', 'd')\n",
      "\n",
      "\n"
     ]
    }
   ],
   "source": [
    "# Slicing of Tuple\n",
    "\"\"\" To fetch specific sets of sub-elements from tuple or list, we use this unique\n",
    "function called slicing. Slicing is not only applicable to tuple but also for array\n",
    "and list.\"\"\"\n",
    "x = (\"a\", \"b\",\"c\", \"d\", \"e\")\n",
    "print(x[2:4])\n",
    "print('\\n')"
   ]
  },
  {
   "cell_type": "code",
   "execution_count": null,
   "metadata": {},
   "outputs": [],
   "source": [
    "\"\"\"Advantages of tuples over list:\n",
    "\tIterating through tuple is faster than with list, since tuples are immutable.\n",
    "\tTuples that consist of immutable elements can be used as key for dictionary, which\n",
    "\tis not possiblw with list\n",
    "\tIf we have data that is immutable, implementing it as a tuple will guarantee that\n",
    "\tit remians write-protected\"\"\""
   ]
  }
 ],
 "metadata": {
  "kernelspec": {
   "display_name": "Python 3",
   "language": "python",
   "name": "python3"
  },
  "language_info": {
   "codemirror_mode": {
    "name": "ipython",
    "version": 3
   },
   "file_extension": ".py",
   "mimetype": "text/x-python",
   "name": "python",
   "nbconvert_exporter": "python",
   "pygments_lexer": "ipython3",
   "version": "3.7.1"
  }
 },
 "nbformat": 4,
 "nbformat_minor": 2
}
