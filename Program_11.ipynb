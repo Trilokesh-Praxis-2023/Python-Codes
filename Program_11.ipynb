{
 "cells": [
  {
   "cell_type": "code",
   "execution_count": 1,
   "metadata": {},
   "outputs": [
    {
     "name": "stdout",
     "output_type": "stream",
     "text": [
      "x is less than y\n",
      "\n",
      "\n",
      "x is greater than y\n",
      "\n",
      "\n",
      "x is greater than y\n",
      "\n",
      "\n",
      "x is same as y\n",
      "\n",
      "\n",
      "x is greater than or equal to y\n",
      "\n",
      "\n",
      "Shipping Cost is $25\n",
      " This is Case One \n"
     ]
    }
   ],
   "source": [
    "# If Statement\n",
    "# Example of working with conditional statement\n",
    "\n",
    "\"\"\"Summary: A conditional statement in Python is handled by if statement and we\n",
    "will see various other ways we can use conditional statements like \"if and else\n",
    "in this tutorial.\n",
    "\t\"if condition\"  - it is used when we need to print out the result when\n",
    "\tone of the conditions is true or false\n",
    "\t\"else condition\" - it is used when we want to print out the statement when\n",
    "\tour one condition fails to meet the requirement.\n",
    "\t\"elif condition\" - it is used when we have third possibility as the outcome.\n",
    "\tWe can use multiple elif conditions to check.\n",
    "\tWe can use minimal code to execute conditional statements by declaring all\n",
    "\tcondition in single statement to run the code\n",
    "\tIf statement can be be nested.\"\"\"\n",
    "\t\n",
    "\n",
    "def main():\n",
    "    x, y = 2, 8\n",
    "\n",
    "    if (x < y):\n",
    "        st = \"x is less than y\"\n",
    "    print(st)\n",
    "    print('\\n')\n",
    "\n",
    "main()\n",
    "\n",
    "\n",
    "# How to use \"else condition\"\n",
    "# Example of working with conditional statement\n",
    "\n",
    "def main():\n",
    "    x, y = 8, 4\n",
    "\n",
    "    if (x < y):\n",
    "        st = \"x is less than y\"\n",
    "    else:\n",
    "        st = \"x is greater than or equal to y\"\n",
    "    print(st)\n",
    "    print('\\n')\n",
    "\n",
    "main()\n",
    "\n",
    "\n",
    "# When \"else condition\" does not work\n",
    "# Example of working with conditional statement\n",
    "#\n",
    "def main():\n",
    "    x, y = 8, 8\n",
    "\n",
    "    if (x < y):\n",
    "        st = \"x is less than y\"\n",
    "    else:\n",
    "        st = \"x is greater than y\"\n",
    "    print(st)\n",
    "    print('\\n')\n",
    "\n",
    "main()\n",
    "\n",
    "\n",
    "# How to use \"elif\" condition\n",
    "# Example of working with conditional statement\n",
    "#\n",
    "def main():\n",
    "    x, y = 8, 8\n",
    "\n",
    "    if (x < y):\n",
    "        st = \"x is less than y\"\n",
    "\n",
    "    elif (x == y):\n",
    "        st = \"x is same as y\"\n",
    "\n",
    "    else:\n",
    "        st = \"x is greater than y\"\n",
    "    print(st)\n",
    "    print('\\n')\n",
    "\n",
    "main()\n",
    "\n",
    "\n",
    "# How to execute conditional statement with minimal code\n",
    "\n",
    "def main():\n",
    "    x, y = 10, 8\n",
    "    st = \"x is less than y\" if (x < y) else \"x is greater than or equal to y\"\n",
    "    print(st)\n",
    "    print('\\n')\n",
    "\n",
    "main()\n",
    "\n",
    "# Nested if statement\n",
    "\n",
    "total = 100\n",
    "# country = \"US\"\n",
    "country = \"AU\"\n",
    "if country == \"US\":\n",
    "    if total <= 50:\n",
    "        print(\"Shipping Cost is  $50\")\n",
    "elif total <= 100:\n",
    "    print(\"Shipping Cost is $25\")\n",
    "elif total <= 150:\n",
    "    print(\"Shipping Costs $5\")\n",
    "else:\n",
    "    print(\"FREE\")\n",
    "if country == \"AU\":\n",
    "    if total <= 50:\n",
    "        print(\"Shipping Cost is  $100\")\n",
    "else:\n",
    "    print(\"FREE\")\n",
    "    print('\\n')\n",
    "\n",
    "\n",
    "# Switch statement\n",
    "\n",
    "def SwitchExample(argument):\n",
    "    switcher = {\n",
    "        0: \" This is Case Zero \",\n",
    "        1: \" This is Case One \",\n",
    "        2: \" This is Case Two \",\n",
    "    }\n",
    "    return switcher.get(argument, \"nothing\")\n",
    "\n",
    "\n",
    "if __name__ == \"__main__\":\n",
    "    argument = 1\n",
    "    print(SwitchExample(argument))\n"
   ]
  },
  {
   "cell_type": "code",
   "execution_count": 1,
   "metadata": {},
   "outputs": [
    {
     "name": "stdout",
     "output_type": "stream",
     "text": [
      "x is less than y\n",
      "\n",
      "\n"
     ]
    }
   ],
   "source": [
    "def main():\n",
    "    x, y = 2, 8\n",
    "\n",
    "    if (x < y):\n",
    "        st = \"x is less than y\"\n",
    "    print(st)\n",
    "    print('\\n')\n",
    "\n",
    "main()"
   ]
  },
  {
   "cell_type": "code",
   "execution_count": 6,
   "metadata": {},
   "outputs": [
    {
     "name": "stdout",
     "output_type": "stream",
     "text": [
      "x is greater than or equal to y\n",
      "\n",
      "\n"
     ]
    }
   ],
   "source": [
    "def main():\n",
    "    x, y = 8, 4\n",
    "\n",
    "    if (x < y):\n",
    "        st = \"x is less than y\"\n",
    "    else:\n",
    "        st = \"x is greater than or equal to y\"\n",
    "    print(st)\n",
    "    print('\\n')\n",
    "\n",
    "main()"
   ]
  },
  {
   "cell_type": "code",
   "execution_count": 7,
   "metadata": {},
   "outputs": [
    {
     "name": "stdout",
     "output_type": "stream",
     "text": [
      "x is same as y\n",
      "\n",
      "\n"
     ]
    }
   ],
   "source": [
    "def main():\n",
    "    x, y = 8, 8\n",
    "\n",
    "    if (x < y):\n",
    "        st = \"x is less than y\"\n",
    "\n",
    "    elif (x == y):\n",
    "        st = \"x is same as y\"\n",
    "\n",
    "    else:\n",
    "        st = \"x is greater than y\"\n",
    "    print(st)\n",
    "    print('\\n')\n",
    "\n",
    "main()"
   ]
  },
  {
   "cell_type": "code",
   "execution_count": 8,
   "metadata": {},
   "outputs": [
    {
     "name": "stdout",
     "output_type": "stream",
     "text": [
      "Shipping Cost is $25\n"
     ]
    }
   ],
   "source": [
    "total = 100\n",
    "# country = \"US\"\n",
    "country = \"AU\"\n",
    "if country == \"US\":\n",
    "    if total <= 50:\n",
    "        print(\"Shipping Cost is  $50\")\n",
    "elif total <= 100:\n",
    "    print(\"Shipping Cost is $25\")\n",
    "elif total <= 150:\n",
    "    print(\"Shipping Costs $5\")\n",
    "else:\n",
    "    print(\"FREE\")\n",
    "if country == \"AU\":\n",
    "    if total <= 50:\n",
    "        print(\"Shipping Cost is  $100\")\n",
    "else:\n",
    "    print(\"FREE\")\n",
    "    print('\\n')"
   ]
  },
  {
   "cell_type": "code",
   "execution_count": null,
   "metadata": {},
   "outputs": [],
   "source": []
  }
 ],
 "metadata": {
  "kernelspec": {
   "display_name": "Python 3",
   "language": "python",
   "name": "python3"
  },
  "language_info": {
   "codemirror_mode": {
    "name": "ipython",
    "version": 3
   },
   "file_extension": ".py",
   "mimetype": "text/x-python",
   "name": "python",
   "nbconvert_exporter": "python",
   "pygments_lexer": "ipython3",
   "version": "3.7.1"
  }
 },
 "nbformat": 4,
 "nbformat_minor": 2
}
