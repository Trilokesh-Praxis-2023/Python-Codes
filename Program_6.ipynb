{
 "cells": [
  {
   "cell_type": "code",
   "execution_count": 11,
   "metadata": {},
   "outputs": [],
   "source": [
    "# Accessing Values in Strings\n",
    "\n",
    "var1 = \"Hello90!\"\n",
    "var2 = \"Software Testing\""
   ]
  },
  {
   "cell_type": "code",
   "execution_count": 13,
   "metadata": {},
   "outputs": [
    {
     "name": "stdout",
     "output_type": "stream",
     "text": [
      "var1[0]:  H\n"
     ]
    }
   ],
   "source": [
    "print(\"var1[0]: \", var1[0])"
   ]
  },
  {
   "cell_type": "code",
   "execution_count": 10,
   "metadata": {},
   "outputs": [
    {
     "name": "stdout",
     "output_type": "stream",
     "text": [
      "var2[1:5]: oftw\n",
      "\n",
      "\n"
     ]
    }
   ],
   "source": [
    "print(\"var2[1:5]:\",var2[1:5])\n",
    "print('\\n')"
   ]
  },
  {
   "cell_type": "code",
   "execution_count": 24,
   "metadata": {},
   "outputs": [
    {
     "name": "stdout",
     "output_type": "stream",
     "text": [
      "Hello\n",
      "Hello Python3\n"
     ]
    }
   ],
   "source": [
    "#Some more examples\n",
    "x = \"Hello World!\"\n",
    "print(x[:5])\n",
    "print(x[0:5] + \" \" + \"Python3\")\n",
    "#print('\\n')"
   ]
  },
  {
   "cell_type": "code",
   "execution_count": 26,
   "metadata": {},
   "outputs": [
    {
     "name": "stdout",
     "output_type": "stream",
     "text": [
      "newstring :  I love world99\n",
      "\n",
      "\n"
     ]
    }
   ],
   "source": [
    "#Python String replace() Method\n",
    "oldstring = 'I like world99'\n",
    "newstring = oldstring.replace('like', 'love')\n",
    "print(\"newstring : \", newstring)\n",
    "print('\\n')\n"
   ]
  },
  {
   "cell_type": "code",
   "execution_count": 28,
   "metadata": {},
   "outputs": [
    {
     "name": "stdout",
     "output_type": "stream",
     "text": [
      "PYTHON AT WORLD99\n",
      "Python at world99\n",
      "python at world99\n",
      "\n",
      "\n",
      "PYTHON AT WORLD\n",
      "Python at world\n",
      "Python At World99\n"
     ]
    }
   ],
   "source": [
    "#Changing upper and lower case strings\n",
    "string=\"python at world99\"\n",
    "print(string.upper())\n",
    "string=\"python at world99\"\n",
    "print(string.capitalize())\n",
    "string=\"PYTHON AT WORLD99\"\n",
    "print(string.lower())\n",
    "print('\\n')\n",
    "string1 = \"python at world\"\n",
    "print(string1.upper())\n",
    "string1 = \"Python at World\"\n",
    "print(string1.capitalize())\n",
    "print(string.title())"
   ]
  },
  {
   "cell_type": "code",
   "execution_count": 35,
   "metadata": {},
   "outputs": [
    {
     "name": "stdout",
     "output_type": "stream",
     "text": [
      "Python is a programming language\n",
      "\n",
      "\n"
     ]
    }
   ],
   "source": [
    "#Using \"join\" function for the string\n",
    "print(\"c\".join(\"Python is a programming language\"))\n",
    "print('\\n')"
   ]
  },
  {
   "cell_type": "code",
   "execution_count": 40,
   "metadata": {},
   "outputs": [
    {
     "name": "stdout",
     "output_type": "stream",
     "text": [
      "54321\n",
      "\n",
      "\n"
     ]
    }
   ],
   "source": [
    "#Reversing String\n",
    "string=\"12345\"\n",
    "print(''.join(reversed(string)))\n",
    "print('\\n')"
   ]
  },
  {
   "cell_type": "code",
   "execution_count": 41,
   "metadata": {},
   "outputs": [
    {
     "name": "stdout",
     "output_type": "stream",
     "text": [
      "54321\n"
     ]
    }
   ],
   "source": [
    "string =\"12345\"\n",
    "print(string[::-1])"
   ]
  },
  {
   "cell_type": "code",
   "execution_count": 42,
   "metadata": {},
   "outputs": [
    {
     "name": "stdout",
     "output_type": "stream",
     "text": [
      "['world99', 'career', 'world99']\n"
     ]
    }
   ],
   "source": [
    "#Split Strings\n",
    "word=\"world99 career world99\"\n",
    "print(word.split(' '))"
   ]
  },
  {
   "cell_type": "code",
   "execution_count": 20,
   "metadata": {},
   "outputs": [
    {
     "name": "stdout",
     "output_type": "stream",
     "text": [
      "['wo', 'ld99 ca', 'ee', ' wo', 'ld99']\n",
      "\n",
      "\n"
     ]
    }
   ],
   "source": [
    "word=\"world99 career world99\"\n",
    "print(word.split('r'))\n",
    "print('\\n')"
   ]
  },
  {
   "cell_type": "code",
   "execution_count": 43,
   "metadata": {},
   "outputs": [
    {
     "name": "stdout",
     "output_type": "stream",
     "text": [
      "World99\n",
      "\n",
      "\n"
     ]
    }
   ],
   "source": [
    "x = \"World99\"\n",
    "x.replace(\"World99\",\"Python\")\n",
    "print(x) # No changes observed. To make the change do the following\n",
    "print('\\n')"
   ]
  },
  {
   "cell_type": "code",
   "execution_count": 9,
   "metadata": {},
   "outputs": [
    {
     "name": "stdout",
     "output_type": "stream",
     "text": [
      "Python\n",
      "\n",
      "\n"
     ]
    }
   ],
   "source": [
    "x = \"World99\"\n",
    "x = x.replace(\"World99\",\"Python\")\n",
    "print(x)\n",
    "print('\\n')"
   ]
  },
  {
   "cell_type": "code",
   "execution_count": null,
   "metadata": {},
   "outputs": [],
   "source": []
  }
 ],
 "metadata": {
  "kernelspec": {
   "display_name": "Python 3",
   "language": "python",
   "name": "python3"
  },
  "language_info": {
   "codemirror_mode": {
    "name": "ipython",
    "version": 3
   },
   "file_extension": ".py",
   "mimetype": "text/x-python",
   "name": "python",
   "nbconvert_exporter": "python",
   "pygments_lexer": "ipython3",
   "version": "3.7.1"
  }
 },
 "nbformat": 4,
 "nbformat_minor": 2
}
