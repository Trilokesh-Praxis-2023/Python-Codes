{
 "cells": [
  {
   "cell_type": "code",
   "execution_count": 3,
   "metadata": {},
   "outputs": [
    {
     "name": "stdout",
     "output_type": "stream",
     "text": [
      "0\n",
      "\n",
      "\n"
     ]
    }
   ],
   "source": [
    "# Declare a variable and initialize it\n",
    "\n",
    "f = 0\n",
    "print(f)\n",
    "print('\\n')"
   ]
  },
  {
   "cell_type": "code",
   "execution_count": 4,
   "metadata": {},
   "outputs": [
    {
     "name": "stdout",
     "output_type": "stream",
     "text": [
      "Hello\n",
      "\n",
      "\n"
     ]
    }
   ],
   "source": [
    "#re-declaring the variable works\n",
    "f = 'Hello'\n",
    "print(f)\n",
    "print('\\n')"
   ]
  },
  {
   "cell_type": "code",
   "execution_count": 9,
   "metadata": {},
   "outputs": [
    {
     "name": "stdout",
     "output_type": "stream",
     "text": [
      "Hello99\n"
     ]
    }
   ],
   "source": [
    "#Concatenation of variables\n",
    "a = \"Hello\"\n",
    "b = 99\n",
    "print(a+b) # Error"
   ]
  },
  {
   "cell_type": "code",
   "execution_count": 15,
   "metadata": {},
   "outputs": [
    {
     "name": "stdout",
     "output_type": "stream",
     "text": [
      "Hello 99\n",
      "Hello99\n",
      "\n",
      "\n"
     ]
    }
   ],
   "source": [
    "c = str(b)\n",
    "print(a+\" \"+c)\n",
    "print(a+str(b))\n",
    "print('\\n')"
   ]
  },
  {
   "cell_type": "code",
   "execution_count": 19,
   "metadata": {},
   "outputs": [
    {
     "name": "stdout",
     "output_type": "stream",
     "text": [
      "101\n",
      "I am learning Python\n",
      "I am learning Python\n",
      "101\n",
      "\n",
      "\n"
     ]
    }
   ],
   "source": [
    "# Declare a variable and initialize it\n",
    "f = 101\n",
    "print(f)\n",
    "# Global vs. Local Variable in functions\n",
    "def someFunction():\n",
    "    f = \"I am learning Python\" # same f being used as a local f\n",
    "    print(f)\n",
    "someFunction()\n",
    "someFunction()\n",
    "print(f)\n",
    "print('\\n')"
   ]
  },
  {
   "cell_type": "code",
   "execution_count": 20,
   "metadata": {},
   "outputs": [
    {
     "name": "stdout",
     "output_type": "stream",
     "text": [
      "101\n",
      "101\n",
      "\n",
      "\n",
      "changing global variable\n",
      "\n",
      "\n"
     ]
    }
   ],
   "source": [
    "f = 101\n",
    "print(f)\n",
    "# Global vs. Local variables in functions\n",
    "def someFunctions():\n",
    "    global f\n",
    "print(f)\n",
    "print('\\n')\n",
    "\n",
    "f= \"changing global variable\"\n",
    "someFunctions()\n",
    "print(f)\n",
    "print('\\n')"
   ]
  },
  {
   "cell_type": "code",
   "execution_count": null,
   "metadata": {},
   "outputs": [],
   "source": []
  }
 ],
 "metadata": {
  "kernelspec": {
   "display_name": "Python 3",
   "language": "python",
   "name": "python3"
  },
  "language_info": {
   "codemirror_mode": {
    "name": "ipython",
    "version": 3
   },
   "file_extension": ".py",
   "mimetype": "text/x-python",
   "name": "python",
   "nbconvert_exporter": "python",
   "pygments_lexer": "ipython3",
   "version": "3.7.1"
  }
 },
 "nbformat": 4,
 "nbformat_minor": 2
}
