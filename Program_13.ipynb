{
 "cells": [
  {
   "cell_type": "code",
   "execution_count": 1,
   "metadata": {},
   "outputs": [
    {
     "name": "stdout",
     "output_type": "stream",
     "text": [
      "Hello\n",
      "Software Testing: Testing is fun\n",
      "\n",
      "\n",
      "Hello\n",
      "childClass method2\n"
     ]
    }
   ],
   "source": [
    "# How to define Python classes\n",
    "# Example of working with classes\n",
    "\n",
    "\"\"\" To define class we need to consider the following points:\n",
    "\t1. In Python, classes are defined by the \"Class\" keyword.\n",
    "\t2. Inside classes, we can define functions or methods that are part of\n",
    "\t   the class.\n",
    "\t3. The \"self\" argument refers to the object itself. Hence the use of the\n",
    "\t   word slef. So inside this method, self will refer to the specific\n",
    "\t   instance of this object that's being operated on.\n",
    "\t4. Self is the name preferred by convention in Python to indicate the first\n",
    "\t   parameter of instance method in Python. It is the part of the Python syntax\n",
    "\t   to access members of objects. \"\"\"\n",
    "\t\n",
    "class myClass():\n",
    "    def method1(self):\n",
    "        print(\"Hello\")\n",
    "\n",
    "    def method2(self, someString):\n",
    "        print(\"Software Testing:\" + someString)\n",
    "\n",
    "\n",
    "def main():\n",
    "    # exercise the class methods\n",
    "    c = myClass()\n",
    "    c.method1()\n",
    "    c.method2(\" Testing is fun\")\n",
    "\n",
    "main()\n",
    "print('\\n')\n",
    "\n",
    "# How Inheritance works\n",
    "# Example of working with classes\n",
    "# Python Inheritance Syntax\n",
    "\"\"\" class DerivedClass(BaseClass):\n",
    "        body_of_derived_class\"\"\"\n",
    "\n",
    "class myClass():\n",
    "    def method1(self):\n",
    "        print(\"Hello\")\n",
    "\n",
    "\n",
    "class childClass(myClass):\n",
    "    # def method1(self):\n",
    "    # myClass.method1(self);\n",
    "    # print \"childClass Method1\"\n",
    "\n",
    "    def method2(self):\n",
    "        print(\"childClass method2\")\n",
    "\n",
    "\n",
    "def main():\n",
    "    # exercise the class methods\n",
    "    c2 = childClass()\n",
    "    c2.method1()\n",
    "    c2.method2()\n",
    "\n",
    "\n",
    "if __name__ == \"__main__\":\n",
    "    main()"
   ]
  },
  {
   "cell_type": "code",
   "execution_count": null,
   "metadata": {},
   "outputs": [],
   "source": []
  }
 ],
 "metadata": {
  "kernelspec": {
   "display_name": "Python 3",
   "language": "python",
   "name": "python3"
  },
  "language_info": {
   "codemirror_mode": {
    "name": "ipython",
    "version": 3
   },
   "file_extension": ".py",
   "mimetype": "text/x-python",
   "name": "python",
   "nbconvert_exporter": "python",
   "pygments_lexer": "ipython3",
   "version": "3.6.7"
  }
 },
 "nbformat": 4,
 "nbformat_minor": 2
}
